{
 "cells": [
  {
   "cell_type": "code",
   "execution_count": 1,
   "id": "169fddc9",
   "metadata": {
    "_cell_guid": "b1076dfc-b9ad-4769-8c92-a6c4dae69d19",
    "_uuid": "8f2839f25d086af736a60e9eeb907d3b93b6e0e5",
    "execution": {
     "iopub.execute_input": "2023-05-17T14:48:58.102758Z",
     "iopub.status.busy": "2023-05-17T14:48:58.102230Z",
     "iopub.status.idle": "2023-05-17T14:48:58.124744Z",
     "shell.execute_reply": "2023-05-17T14:48:58.123301Z"
    },
    "papermill": {
     "duration": 0.042907,
     "end_time": "2023-05-17T14:48:58.127602",
     "exception": false,
     "start_time": "2023-05-17T14:48:58.084695",
     "status": "completed"
    },
    "tags": []
   },
   "outputs": [],
   "source": [
    "# This Python 3 environment comes with many helpful analytics libraries installed\n",
    "# It is defined by the kaggle/python Docker image: https://github.com/kaggle/docker-python\n",
    "# For example, here's several helpful packages to load\n",
    "\n",
    "import numpy as np # linear algebra\n",
    "import pandas as pd # data processing, CSV file I/O (e.g. pd.read_csv)\n",
    "\n",
    "# Input data files are available in the read-only \"../input/\" directory\n",
    "# For example, running this (by clicking run or pressing Shift+Enter) will list all files under the input directory\n",
    "\n",
    "import os\n",
    "for dirname, _, filenames in os.walk('/kaggle/input'):\n",
    "    for filename in filenames:\n",
    "        print(os.path.join(dirname, filename))\n",
    "\n",
    "# You can write up to 20GB to the current directory (/kaggle/working/) that gets preserved as output when you create a version using \"Save & Run All\" \n",
    "# You can also write temporary files to /kaggle/temp/, but they won't be saved outside of the current session"
   ]
  },
  {
   "cell_type": "markdown",
   "id": "8f4e6d38",
   "metadata": {
    "papermill": {
     "duration": 0.014756,
     "end_time": "2023-05-17T14:48:58.157210",
     "exception": false,
     "start_time": "2023-05-17T14:48:58.142454",
     "status": "completed"
    },
    "tags": []
   },
   "source": [
    "# 1. Import the cancer data and understand features and target"
   ]
  },
  {
   "cell_type": "code",
   "execution_count": 2,
   "id": "f3e9f40e",
   "metadata": {
    "execution": {
     "iopub.execute_input": "2023-05-17T14:48:58.189164Z",
     "iopub.status.busy": "2023-05-17T14:48:58.188425Z",
     "iopub.status.idle": "2023-05-17T14:48:59.968583Z",
     "shell.execute_reply": "2023-05-17T14:48:59.967271Z"
    },
    "papermill": {
     "duration": 1.799153,
     "end_time": "2023-05-17T14:48:59.971541",
     "exception": false,
     "start_time": "2023-05-17T14:48:58.172388",
     "status": "completed"
    },
    "tags": []
   },
   "outputs": [],
   "source": [
    "# Import necessary Library\n",
    "import pandas as pd\n",
    "import numpy as np\n",
    "import matplotlib.pyplot as plt\n",
    "import seaborn as sns\n",
    "from sklearn.preprocessing import StandardScaler\n",
    "from sklearn.model_selection import train_test_split\n",
    "from sklearn.linear_model import LogisticRegression\n",
    "from sklearn.metrics import classification_report,confusion_matrix, ConfusionMatrixDisplay\n",
    "import warnings\n",
    "warnings.filterwarnings(\"ignore\")"
   ]
  },
  {
   "cell_type": "code",
   "execution_count": 3,
   "id": "cb518c2d",
   "metadata": {
    "execution": {
     "iopub.execute_input": "2023-05-17T14:49:00.002320Z",
     "iopub.status.busy": "2023-05-17T14:49:00.001882Z",
     "iopub.status.idle": "2023-05-17T14:49:00.027043Z",
     "shell.execute_reply": "2023-05-17T14:49:00.025558Z"
    },
    "papermill": {
     "duration": 0.04398,
     "end_time": "2023-05-17T14:49:00.030003",
     "exception": false,
     "start_time": "2023-05-17T14:48:59.986023",
     "status": "completed"
    },
    "tags": []
   },
   "outputs": [],
   "source": [
    "df = pd.read_csv(\"gbsg.csv\")"
   ]
  },
  {
   "cell_type": "code",
   "execution_count": 4,
   "id": "13550864",
   "metadata": {
    "execution": {
     "iopub.execute_input": "2023-05-17T14:49:00.061532Z",
     "iopub.status.busy": "2023-05-17T14:49:00.061133Z",
     "iopub.status.idle": "2023-05-17T14:49:00.069150Z",
     "shell.execute_reply": "2023-05-17T14:49:00.067929Z"
    },
    "papermill": {
     "duration": 0.026732,
     "end_time": "2023-05-17T14:49:00.071670",
     "exception": false,
     "start_time": "2023-05-17T14:49:00.044938",
     "status": "completed"
    },
    "tags": []
   },
   "outputs": [
    {
     "data": {
      "text/plain": [
       "(686, 12)"
      ]
     },
     "execution_count": 4,
     "metadata": {},
     "output_type": "execute_result"
    }
   ],
   "source": [
    "df.shape"
   ]
  },
  {
   "cell_type": "code",
   "execution_count": 5,
   "id": "85a140ef",
   "metadata": {
    "execution": {
     "iopub.execute_input": "2023-05-17T14:49:00.104642Z",
     "iopub.status.busy": "2023-05-17T14:49:00.103805Z",
     "iopub.status.idle": "2023-05-17T14:49:00.139508Z",
     "shell.execute_reply": "2023-05-17T14:49:00.138221Z"
    },
    "papermill": {
     "duration": 0.055189,
     "end_time": "2023-05-17T14:49:00.142291",
     "exception": false,
     "start_time": "2023-05-17T14:49:00.087102",
     "status": "completed"
    },
    "tags": []
   },
   "outputs": [
    {
     "data": {
      "text/html": [
       "<div>\n",
       "<style scoped>\n",
       "    .dataframe tbody tr th:only-of-type {\n",
       "        vertical-align: middle;\n",
       "    }\n",
       "\n",
       "    .dataframe tbody tr th {\n",
       "        vertical-align: top;\n",
       "    }\n",
       "\n",
       "    .dataframe thead th {\n",
       "        text-align: right;\n",
       "    }\n",
       "</style>\n",
       "<table border=\"1\" class=\"dataframe\">\n",
       "  <thead>\n",
       "    <tr style=\"text-align: right;\">\n",
       "      <th></th>\n",
       "      <th>Unnamed: 0</th>\n",
       "      <th>pid</th>\n",
       "      <th>age</th>\n",
       "      <th>meno</th>\n",
       "      <th>size</th>\n",
       "      <th>grade</th>\n",
       "      <th>nodes</th>\n",
       "      <th>pgr</th>\n",
       "      <th>er</th>\n",
       "      <th>hormon</th>\n",
       "      <th>rfstime</th>\n",
       "      <th>status</th>\n",
       "    </tr>\n",
       "  </thead>\n",
       "  <tbody>\n",
       "    <tr>\n",
       "      <th>0</th>\n",
       "      <td>1</td>\n",
       "      <td>132</td>\n",
       "      <td>49</td>\n",
       "      <td>0</td>\n",
       "      <td>18</td>\n",
       "      <td>2</td>\n",
       "      <td>2</td>\n",
       "      <td>0</td>\n",
       "      <td>0</td>\n",
       "      <td>0</td>\n",
       "      <td>1838</td>\n",
       "      <td>0</td>\n",
       "    </tr>\n",
       "    <tr>\n",
       "      <th>1</th>\n",
       "      <td>2</td>\n",
       "      <td>1575</td>\n",
       "      <td>55</td>\n",
       "      <td>1</td>\n",
       "      <td>20</td>\n",
       "      <td>3</td>\n",
       "      <td>16</td>\n",
       "      <td>0</td>\n",
       "      <td>0</td>\n",
       "      <td>0</td>\n",
       "      <td>403</td>\n",
       "      <td>1</td>\n",
       "    </tr>\n",
       "    <tr>\n",
       "      <th>2</th>\n",
       "      <td>3</td>\n",
       "      <td>1140</td>\n",
       "      <td>56</td>\n",
       "      <td>1</td>\n",
       "      <td>40</td>\n",
       "      <td>3</td>\n",
       "      <td>3</td>\n",
       "      <td>0</td>\n",
       "      <td>0</td>\n",
       "      <td>0</td>\n",
       "      <td>1603</td>\n",
       "      <td>0</td>\n",
       "    </tr>\n",
       "    <tr>\n",
       "      <th>3</th>\n",
       "      <td>4</td>\n",
       "      <td>769</td>\n",
       "      <td>45</td>\n",
       "      <td>0</td>\n",
       "      <td>25</td>\n",
       "      <td>3</td>\n",
       "      <td>1</td>\n",
       "      <td>0</td>\n",
       "      <td>4</td>\n",
       "      <td>0</td>\n",
       "      <td>177</td>\n",
       "      <td>0</td>\n",
       "    </tr>\n",
       "    <tr>\n",
       "      <th>4</th>\n",
       "      <td>5</td>\n",
       "      <td>130</td>\n",
       "      <td>65</td>\n",
       "      <td>1</td>\n",
       "      <td>30</td>\n",
       "      <td>2</td>\n",
       "      <td>5</td>\n",
       "      <td>0</td>\n",
       "      <td>36</td>\n",
       "      <td>1</td>\n",
       "      <td>1855</td>\n",
       "      <td>0</td>\n",
       "    </tr>\n",
       "  </tbody>\n",
       "</table>\n",
       "</div>"
      ],
      "text/plain": [
       "   Unnamed: 0   pid  age  meno  size  grade  nodes  pgr  er  hormon  rfstime  \\\n",
       "0           1   132   49     0    18      2      2    0   0       0     1838   \n",
       "1           2  1575   55     1    20      3     16    0   0       0      403   \n",
       "2           3  1140   56     1    40      3      3    0   0       0     1603   \n",
       "3           4   769   45     0    25      3      1    0   4       0      177   \n",
       "4           5   130   65     1    30      2      5    0  36       1     1855   \n",
       "\n",
       "   status  \n",
       "0       0  \n",
       "1       1  \n",
       "2       0  \n",
       "3       0  \n",
       "4       0  "
      ]
     },
     "execution_count": 5,
     "metadata": {},
     "output_type": "execute_result"
    }
   ],
   "source": [
    "df.head()"
   ]
  },
  {
   "cell_type": "markdown",
   "id": "dcf71fd4",
   "metadata": {
    "papermill": {
     "duration": 0.014651,
     "end_time": "2023-05-17T14:49:00.172127",
     "exception": false,
     "start_time": "2023-05-17T14:49:00.157476",
     "status": "completed"
    },
    "tags": []
   },
   "source": [
    "# 2. Understand features importance"
   ]
  },
  {
   "cell_type": "markdown",
   "id": "5b436d5e",
   "metadata": {
    "papermill": {
     "duration": 0.014614,
     "end_time": "2023-05-17T14:49:00.201650",
     "exception": false,
     "start_time": "2023-05-17T14:49:00.187036",
     "status": "completed"
    },
    "tags": []
   },
   "source": [
    "## It is necessary to Understand meaning of Some important features to proceed further\n",
    "\n",
    "1) Meno (menopausal status (0= premenopausal, 1= postmenopausal))\n",
    " -- It refers to a woman's hormonal status and whether she has reached menopause or not. Menopause is a natural process that occurs in women typically around the age of 45 to 55, marking the end of their reproductive years. Menopausal status is important in breast cancer because hormonal factors play a significant role in the development, progression, and treatment of the disease\n",
    " \n",
    "2) Grade\n",
    "-- In breast cancer, \"grade\" refers to a measure of how abnormal the cancer cells look under a microscope compared to normal cells. The grade provides information about the aggressiveness or the likelihood of the cancer to grow and spread. It helps in determining the treatment approach and predicting the patient's prognosis\n",
    "\n",
    "3) Nodes\n",
    "--  It helps to determine how much spread of cancer cells into organs and also helps guide the selection of therapies such as surgery, radiation, chemotherapy, or targeted treatments.Lower is better\n",
    "\n",
    "4) pgr (progesterone receptors (fmol/l))\n",
    "-- Progesterone receptors (PR) are proteins found on the surface of breast cancer cells. Their presence indicates that the cancer cells are responsive to the hormone progesterone, which is naturally produced in the body\n",
    "\n",
    "5) er (estrogen receptors (fmol/l))\n",
    "-- estrogen receptors (ER), helps determine if the cancer cells are sensitive to hormonal therapies\n",
    "\n",
    "6) Harmone (hormonal therapy, 0= no, 1= yes)\n",
    "-- Harmone features indicates that how the hormonals respond to the cancer Therepy. if observed +ve means 1 and if found -ve means hormonal are not responsive to therepy\n",
    "\n",
    "7) rfstime (recurrence free survival time)\n",
    "-- Rrstime feature in breast cancer refers to the length of time a patient lives without experiencing any signs or symptoms of cancer after the completion of initial treatment."
   ]
  },
  {
   "cell_type": "code",
   "execution_count": 6,
   "id": "9a5eb332",
   "metadata": {
    "execution": {
     "iopub.execute_input": "2023-05-17T14:49:00.233355Z",
     "iopub.status.busy": "2023-05-17T14:49:00.232919Z",
     "iopub.status.idle": "2023-05-17T14:49:00.260504Z",
     "shell.execute_reply": "2023-05-17T14:49:00.258962Z"
    },
    "papermill": {
     "duration": 0.046834,
     "end_time": "2023-05-17T14:49:00.263350",
     "exception": false,
     "start_time": "2023-05-17T14:49:00.216516",
     "status": "completed"
    },
    "tags": []
   },
   "outputs": [
    {
     "name": "stdout",
     "output_type": "stream",
     "text": [
      "<class 'pandas.core.frame.DataFrame'>\n",
      "RangeIndex: 686 entries, 0 to 685\n",
      "Data columns (total 12 columns):\n",
      " #   Column      Non-Null Count  Dtype\n",
      "---  ------      --------------  -----\n",
      " 0   Unnamed: 0  686 non-null    int64\n",
      " 1   pid         686 non-null    int64\n",
      " 2   age         686 non-null    int64\n",
      " 3   meno        686 non-null    int64\n",
      " 4   size        686 non-null    int64\n",
      " 5   grade       686 non-null    int64\n",
      " 6   nodes       686 non-null    int64\n",
      " 7   pgr         686 non-null    int64\n",
      " 8   er          686 non-null    int64\n",
      " 9   hormon      686 non-null    int64\n",
      " 10  rfstime     686 non-null    int64\n",
      " 11  status      686 non-null    int64\n",
      "dtypes: int64(12)\n",
      "memory usage: 64.4 KB\n"
     ]
    }
   ],
   "source": [
    "df.info()"
   ]
  },
  {
   "cell_type": "markdown",
   "id": "d7a21c48",
   "metadata": {
    "papermill": {
     "duration": 0.014707,
     "end_time": "2023-05-17T14:49:00.293220",
     "exception": false,
     "start_time": "2023-05-17T14:49:00.278513",
     "status": "completed"
    },
    "tags": []
   },
   "source": [
    "1) dataset contains only int type datatype\n",
    "\n",
    "2) No any missing value present"
   ]
  },
  {
   "cell_type": "code",
   "execution_count": 7,
   "id": "14f42254",
   "metadata": {
    "execution": {
     "iopub.execute_input": "2023-05-17T14:49:00.324596Z",
     "iopub.status.busy": "2023-05-17T14:49:00.324160Z",
     "iopub.status.idle": "2023-05-17T14:49:00.381427Z",
     "shell.execute_reply": "2023-05-17T14:49:00.380168Z"
    },
    "papermill": {
     "duration": 0.076216,
     "end_time": "2023-05-17T14:49:00.384225",
     "exception": false,
     "start_time": "2023-05-17T14:49:00.308009",
     "status": "completed"
    },
    "tags": []
   },
   "outputs": [
    {
     "data": {
      "text/html": [
       "<div>\n",
       "<style scoped>\n",
       "    .dataframe tbody tr th:only-of-type {\n",
       "        vertical-align: middle;\n",
       "    }\n",
       "\n",
       "    .dataframe tbody tr th {\n",
       "        vertical-align: top;\n",
       "    }\n",
       "\n",
       "    .dataframe thead th {\n",
       "        text-align: right;\n",
       "    }\n",
       "</style>\n",
       "<table border=\"1\" class=\"dataframe\">\n",
       "  <thead>\n",
       "    <tr style=\"text-align: right;\">\n",
       "      <th></th>\n",
       "      <th>Unnamed: 0</th>\n",
       "      <th>pid</th>\n",
       "      <th>age</th>\n",
       "      <th>meno</th>\n",
       "      <th>size</th>\n",
       "      <th>grade</th>\n",
       "      <th>nodes</th>\n",
       "      <th>pgr</th>\n",
       "      <th>er</th>\n",
       "      <th>hormon</th>\n",
       "      <th>rfstime</th>\n",
       "      <th>status</th>\n",
       "    </tr>\n",
       "  </thead>\n",
       "  <tbody>\n",
       "    <tr>\n",
       "      <th>count</th>\n",
       "      <td>686.000000</td>\n",
       "      <td>686.000000</td>\n",
       "      <td>686.000000</td>\n",
       "      <td>686.000000</td>\n",
       "      <td>686.000000</td>\n",
       "      <td>686.000000</td>\n",
       "      <td>686.000000</td>\n",
       "      <td>686.000000</td>\n",
       "      <td>686.000000</td>\n",
       "      <td>686.000000</td>\n",
       "      <td>686.000000</td>\n",
       "      <td>686.000000</td>\n",
       "    </tr>\n",
       "    <tr>\n",
       "      <th>mean</th>\n",
       "      <td>343.500000</td>\n",
       "      <td>966.061224</td>\n",
       "      <td>53.052478</td>\n",
       "      <td>0.577259</td>\n",
       "      <td>29.329446</td>\n",
       "      <td>2.116618</td>\n",
       "      <td>5.010204</td>\n",
       "      <td>109.995627</td>\n",
       "      <td>96.252187</td>\n",
       "      <td>0.358601</td>\n",
       "      <td>1124.489796</td>\n",
       "      <td>0.435860</td>\n",
       "    </tr>\n",
       "    <tr>\n",
       "      <th>std</th>\n",
       "      <td>198.175427</td>\n",
       "      <td>495.506249</td>\n",
       "      <td>10.120739</td>\n",
       "      <td>0.494355</td>\n",
       "      <td>14.296217</td>\n",
       "      <td>0.582808</td>\n",
       "      <td>5.475483</td>\n",
       "      <td>202.331552</td>\n",
       "      <td>153.083963</td>\n",
       "      <td>0.479940</td>\n",
       "      <td>642.791948</td>\n",
       "      <td>0.496231</td>\n",
       "    </tr>\n",
       "    <tr>\n",
       "      <th>min</th>\n",
       "      <td>1.000000</td>\n",
       "      <td>1.000000</td>\n",
       "      <td>21.000000</td>\n",
       "      <td>0.000000</td>\n",
       "      <td>3.000000</td>\n",
       "      <td>1.000000</td>\n",
       "      <td>1.000000</td>\n",
       "      <td>0.000000</td>\n",
       "      <td>0.000000</td>\n",
       "      <td>0.000000</td>\n",
       "      <td>8.000000</td>\n",
       "      <td>0.000000</td>\n",
       "    </tr>\n",
       "    <tr>\n",
       "      <th>25%</th>\n",
       "      <td>172.250000</td>\n",
       "      <td>580.750000</td>\n",
       "      <td>46.000000</td>\n",
       "      <td>0.000000</td>\n",
       "      <td>20.000000</td>\n",
       "      <td>2.000000</td>\n",
       "      <td>1.000000</td>\n",
       "      <td>7.000000</td>\n",
       "      <td>8.000000</td>\n",
       "      <td>0.000000</td>\n",
       "      <td>567.750000</td>\n",
       "      <td>0.000000</td>\n",
       "    </tr>\n",
       "    <tr>\n",
       "      <th>50%</th>\n",
       "      <td>343.500000</td>\n",
       "      <td>1015.500000</td>\n",
       "      <td>53.000000</td>\n",
       "      <td>1.000000</td>\n",
       "      <td>25.000000</td>\n",
       "      <td>2.000000</td>\n",
       "      <td>3.000000</td>\n",
       "      <td>32.500000</td>\n",
       "      <td>36.000000</td>\n",
       "      <td>0.000000</td>\n",
       "      <td>1084.000000</td>\n",
       "      <td>0.000000</td>\n",
       "    </tr>\n",
       "    <tr>\n",
       "      <th>75%</th>\n",
       "      <td>514.750000</td>\n",
       "      <td>1340.500000</td>\n",
       "      <td>61.000000</td>\n",
       "      <td>1.000000</td>\n",
       "      <td>35.000000</td>\n",
       "      <td>2.000000</td>\n",
       "      <td>7.000000</td>\n",
       "      <td>131.750000</td>\n",
       "      <td>114.000000</td>\n",
       "      <td>1.000000</td>\n",
       "      <td>1684.750000</td>\n",
       "      <td>1.000000</td>\n",
       "    </tr>\n",
       "    <tr>\n",
       "      <th>max</th>\n",
       "      <td>686.000000</td>\n",
       "      <td>1819.000000</td>\n",
       "      <td>80.000000</td>\n",
       "      <td>1.000000</td>\n",
       "      <td>120.000000</td>\n",
       "      <td>3.000000</td>\n",
       "      <td>51.000000</td>\n",
       "      <td>2380.000000</td>\n",
       "      <td>1144.000000</td>\n",
       "      <td>1.000000</td>\n",
       "      <td>2659.000000</td>\n",
       "      <td>1.000000</td>\n",
       "    </tr>\n",
       "  </tbody>\n",
       "</table>\n",
       "</div>"
      ],
      "text/plain": [
       "       Unnamed: 0          pid         age        meno        size  \\\n",
       "count  686.000000   686.000000  686.000000  686.000000  686.000000   \n",
       "mean   343.500000   966.061224   53.052478    0.577259   29.329446   \n",
       "std    198.175427   495.506249   10.120739    0.494355   14.296217   \n",
       "min      1.000000     1.000000   21.000000    0.000000    3.000000   \n",
       "25%    172.250000   580.750000   46.000000    0.000000   20.000000   \n",
       "50%    343.500000  1015.500000   53.000000    1.000000   25.000000   \n",
       "75%    514.750000  1340.500000   61.000000    1.000000   35.000000   \n",
       "max    686.000000  1819.000000   80.000000    1.000000  120.000000   \n",
       "\n",
       "            grade       nodes          pgr           er      hormon  \\\n",
       "count  686.000000  686.000000   686.000000   686.000000  686.000000   \n",
       "mean     2.116618    5.010204   109.995627    96.252187    0.358601   \n",
       "std      0.582808    5.475483   202.331552   153.083963    0.479940   \n",
       "min      1.000000    1.000000     0.000000     0.000000    0.000000   \n",
       "25%      2.000000    1.000000     7.000000     8.000000    0.000000   \n",
       "50%      2.000000    3.000000    32.500000    36.000000    0.000000   \n",
       "75%      2.000000    7.000000   131.750000   114.000000    1.000000   \n",
       "max      3.000000   51.000000  2380.000000  1144.000000    1.000000   \n",
       "\n",
       "           rfstime      status  \n",
       "count   686.000000  686.000000  \n",
       "mean   1124.489796    0.435860  \n",
       "std     642.791948    0.496231  \n",
       "min       8.000000    0.000000  \n",
       "25%     567.750000    0.000000  \n",
       "50%    1084.000000    0.000000  \n",
       "75%    1684.750000    1.000000  \n",
       "max    2659.000000    1.000000  "
      ]
     },
     "execution_count": 7,
     "metadata": {},
     "output_type": "execute_result"
    }
   ],
   "source": [
    "df.describe()"
   ]
  },
  {
   "cell_type": "code",
   "execution_count": 8,
   "id": "52a51ac2",
   "metadata": {
    "execution": {
     "iopub.execute_input": "2023-05-17T14:49:00.416884Z",
     "iopub.status.busy": "2023-05-17T14:49:00.416492Z",
     "iopub.status.idle": "2023-05-17T14:49:00.425950Z",
     "shell.execute_reply": "2023-05-17T14:49:00.424703Z"
    },
    "papermill": {
     "duration": 0.028473,
     "end_time": "2023-05-17T14:49:00.428062",
     "exception": false,
     "start_time": "2023-05-17T14:49:00.399589",
     "status": "completed"
    },
    "tags": []
   },
   "outputs": [],
   "source": [
    "# Drop Unrelevant column from the dataset\n",
    "df.drop(columns =[\"Unnamed: 0\"],inplace=True)"
   ]
  },
  {
   "cell_type": "markdown",
   "id": "44c66e25",
   "metadata": {
    "papermill": {
     "duration": 0.015691,
     "end_time": "2023-05-17T14:49:00.459142",
     "exception": false,
     "start_time": "2023-05-17T14:49:00.443451",
     "status": "completed"
    },
    "tags": []
   },
   "source": [
    "# 3. EDA (Exploratory Data Analysis)"
   ]
  },
  {
   "cell_type": "code",
   "execution_count": 9,
   "id": "6bee3612",
   "metadata": {
    "execution": {
     "iopub.execute_input": "2023-05-17T14:49:00.492037Z",
     "iopub.status.busy": "2023-05-17T14:49:00.491597Z",
     "iopub.status.idle": "2023-05-17T14:49:02.388528Z",
     "shell.execute_reply": "2023-05-17T14:49:02.387027Z"
    },
    "papermill": {
     "duration": 1.916904,
     "end_time": "2023-05-17T14:49:02.391588",
     "exception": false,
     "start_time": "2023-05-17T14:49:00.474684",
     "status": "completed"
    },
    "tags": []
   },
   "outputs": [
    {
     "data": {
      "image/png": "[encoded data removed]",
      "text/plain": [
       "<Figure size 1500x500 with 11 Axes>"
      ]
     },
     "metadata": {},
     "output_type": "display_data"
    }
   ],
   "source": [
    "# Let's check box plot of each numerical column:\n",
    "columns = df.columns.tolist()\n",
    "fig,ax = plt.subplots(1, len(columns),figsize=(15,5))\n",
    "\n",
    "for i,col in enumerate(columns):\n",
    "    df.boxplot(column=col, ax= ax[i])\n",
    "    ax[i].set_title(col)\n",
    "    \n",
    "plt.tight_layout()\n",
    "plt.show()"
   ]
  },
  {
   "cell_type": "markdown",
   "id": "34d42ccd",
   "metadata": {
    "papermill": {
     "duration": 0.016407,
     "end_time": "2023-05-17T14:49:02.424852",
     "exception": false,
     "start_time": "2023-05-17T14:49:02.408445",
     "status": "completed"
    },
    "tags": []
   },
   "source": [
    "Inference\n",
    "1) we can see that Size,Nodes , pgr, er columns having most of the outliers datavaues\n",
    "\n",
    "2) As we have only 686 Rows it is not recommend to do drop outlier values as it lost the data and may affect training"
   ]
  },
  {
   "cell_type": "markdown",
   "id": "ef97d078",
   "metadata": {
    "papermill": {
     "duration": 0.016471,
     "end_time": "2023-05-17T14:49:02.458072",
     "exception": false,
     "start_time": "2023-05-17T14:49:02.441601",
     "status": "completed"
    },
    "tags": []
   },
   "source": [
    "## 3.1 Univariate Analysis"
   ]
  },
  {
   "cell_type": "code",
   "execution_count": 10,
   "id": "56748539",
   "metadata": {
    "execution": {
     "iopub.execute_input": "2023-05-17T14:49:02.493575Z",
     "iopub.status.busy": "2023-05-17T14:49:02.493186Z",
     "iopub.status.idle": "2023-05-17T14:49:02.768636Z",
     "shell.execute_reply": "2023-05-17T14:49:02.767305Z"
    },
    "papermill": {
     "duration": 0.296815,
     "end_time": "2023-05-17T14:49:02.771494",
     "exception": false,
     "start_time": "2023-05-17T14:49:02.474679",
     "status": "completed"
    },
    "tags": []
   },
   "outputs": [
    {
     "data": {
      "image/png": "[encoded data removed]",
      "text/plain": [
       "<Figure size 640x480 with 1 Axes>"
      ]
     },
     "metadata": {},
     "output_type": "display_data"
    }
   ],
   "source": [
    "plt.hist(df['age'], bins=20)\n",
    "plt.xlabel('Age')\n",
    "plt.ylabel('Frequency')\n",
    "plt.title('Histogram of Age')\n",
    "plt.show()"
   ]
  },
  {
   "cell_type": "code",
   "execution_count": 11,
   "id": "23cc4c1e",
   "metadata": {
    "execution": {
     "iopub.execute_input": "2023-05-17T14:49:02.807994Z",
     "iopub.status.busy": "2023-05-17T14:49:02.807536Z",
     "iopub.status.idle": "2023-05-17T14:49:02.812725Z",
     "shell.execute_reply": "2023-05-17T14:49:02.811595Z"
    },
    "papermill": {
     "duration": 0.026472,
     "end_time": "2023-05-17T14:49:02.815360",
     "exception": false,
     "start_time": "2023-05-17T14:49:02.788888",
     "status": "completed"
    },
    "tags": []
   },
   "outputs": [],
   "source": [
    "## Maximum patients fall into age 45-65 Years"
   ]
  },
  {
   "cell_type": "code",
   "execution_count": 11,
   "id": "f8b252e8",
   "metadata": {
    "execution": {
     "iopub.execute_input": "2023-05-17T14:49:02.851200Z",
     "iopub.status.busy": "2023-05-17T14:49:02.850745Z",
     "iopub.status.idle": "2023-05-17T14:49:03.327687Z",
     "shell.execute_reply": "2023-05-17T14:49:03.326348Z"
    },
    "papermill": {
     "duration": 0.498155,
     "end_time": "2023-05-17T14:49:03.330539",
     "exception": false,
     "start_time": "2023-05-17T14:49:02.832384",
     "status": "completed"
    },
    "tags": []
   },
   "outputs": [
    {
     "data": {
      "image/png": "[encoded data removed]",
      "text/plain": [
       "<Figure size 640x480 with 1 Axes>"
      ]
     },
     "metadata": {},
     "output_type": "display_data"
    }
   ],
   "source": [
    "plt.hist(df['meno'], bins=30)\n",
    "plt.xlabel('Meno')\n",
    "plt.ylabel('Frequency')\n",
    "plt.title('Histogram of Meno')\n",
    "plt.show()"
   ]
  },
  {
   "cell_type": "markdown",
   "id": "e877d064",
   "metadata": {
    "papermill": {
     "duration": 0.017685,
     "end_time": "2023-05-17T14:49:03.366057",
     "exception": false,
     "start_time": "2023-05-17T14:49:03.348372",
     "status": "completed"
    },
    "tags": []
   },
   "source": [
    "Approx 370 nos patients had postmenopausal"
   ]
  },
  {
   "cell_type": "code",
   "execution_count": 12,
   "id": "9b2389ba",
   "metadata": {
    "execution": {
     "iopub.execute_input": "2023-05-17T14:49:03.402948Z",
     "iopub.status.busy": "2023-05-17T14:49:03.402175Z",
     "iopub.status.idle": "2023-05-17T14:49:03.707020Z",
     "shell.execute_reply": "2023-05-17T14:49:03.705826Z"
    },
    "papermill": {
     "duration": 0.32649,
     "end_time": "2023-05-17T14:49:03.709840",
     "exception": false,
     "start_time": "2023-05-17T14:49:03.383350",
     "status": "completed"
    },
    "tags": []
   },
   "outputs": [
    {
     "data": {
      "image/png": "[encoded data removed]",
      "text/plain": [
       "<Figure size 640x480 with 1 Axes>"
      ]
     },
     "metadata": {},
     "output_type": "display_data"
    }
   ],
   "source": [
    "plt.hist(df['size'], bins=30)\n",
    "plt.xlabel('Cancer cell Size')\n",
    "plt.ylabel('Frequency')\n",
    "plt.title('Size of Cancer Cell')\n",
    "plt.show()"
   ]
  },
  {
   "cell_type": "code",
   "execution_count": 14,
   "id": "c66b8632",
   "metadata": {
    "execution": {
     "iopub.execute_input": "2023-05-17T14:49:03.747613Z",
     "iopub.status.busy": "2023-05-17T14:49:03.747178Z",
     "iopub.status.idle": "2023-05-17T14:49:03.752459Z",
     "shell.execute_reply": "2023-05-17T14:49:03.751192Z"
    },
    "papermill": {
     "duration": 0.027514,
     "end_time": "2023-05-17T14:49:03.755206",
     "exception": false,
     "start_time": "2023-05-17T14:49:03.727692",
     "status": "completed"
    },
    "tags": []
   },
   "outputs": [],
   "source": [
    "## Maximum patients of cancer cell size ranges between 15-45"
   ]
  },
  {
   "cell_type": "code",
   "execution_count": 13,
   "id": "c4b40005",
   "metadata": {
    "execution": {
     "iopub.execute_input": "2023-05-17T14:49:03.793108Z",
     "iopub.status.busy": "2023-05-17T14:49:03.792692Z",
     "iopub.status.idle": "2023-05-17T14:49:04.103230Z",
     "shell.execute_reply": "2023-05-17T14:49:04.101717Z"
    },
    "papermill": {
     "duration": 0.332834,
     "end_time": "2023-05-17T14:49:04.106325",
     "exception": false,
     "start_time": "2023-05-17T14:49:03.773491",
     "status": "completed"
    },
    "tags": []
   },
   "outputs": [
    {
     "data": {
      "image/png": "[encoded data removed]",
      "text/plain": [
       "<Figure size 640x480 with 1 Axes>"
      ]
     },
     "metadata": {},
     "output_type": "display_data"
    }
   ],
   "source": [
    "plt.hist(df['grade'], bins=30)\n",
    "plt.xlabel('Grade')\n",
    "plt.ylabel('Frequency')\n",
    "plt.title('Grade of Cancer Cell')\n",
    "plt.show()"
   ]
  },
  {
   "cell_type": "code",
   "execution_count": 16,
   "id": "ece7f1ab",
   "metadata": {
    "execution": {
     "iopub.execute_input": "2023-05-17T14:49:04.144824Z",
     "iopub.status.busy": "2023-05-17T14:49:04.144407Z",
     "iopub.status.idle": "2023-05-17T14:49:04.150032Z",
     "shell.execute_reply": "2023-05-17T14:49:04.148634Z"
    },
    "papermill": {
     "duration": 0.027925,
     "end_time": "2023-05-17T14:49:04.152641",
     "exception": false,
     "start_time": "2023-05-17T14:49:04.124716",
     "status": "completed"
    },
    "tags": []
   },
   "outputs": [],
   "source": [
    "## Maximum Cancer cell Grade observed 2 Approx 450 as per histogram"
   ]
  },
  {
   "cell_type": "code",
   "execution_count": 14,
   "id": "55078d58",
   "metadata": {
    "execution": {
     "iopub.execute_input": "2023-05-17T14:49:04.194037Z",
     "iopub.status.busy": "2023-05-17T14:49:04.193603Z",
     "iopub.status.idle": "2023-05-17T14:49:04.498477Z",
     "shell.execute_reply": "2023-05-17T14:49:04.497490Z"
    },
    "papermill": {
     "duration": 0.328251,
     "end_time": "2023-05-17T14:49:04.501148",
     "exception": false,
     "start_time": "2023-05-17T14:49:04.172897",
     "status": "completed"
    },
    "tags": []
   },
   "outputs": [
    {
     "data": {
      "image/png": "[encoded data removed]",
      "text/plain": [
       "<Figure size 640x480 with 1 Axes>"
      ]
     },
     "metadata": {},
     "output_type": "display_data"
    }
   ],
   "source": [
    "plt.hist(df['nodes'], bins=30)\n",
    "plt.xlabel('Nodes')\n",
    "plt.ylabel('Frequency')\n",
    "plt.title('Number of Nodes')\n",
    "plt.show()"
   ]
  },
  {
   "cell_type": "code",
   "execution_count": 15,
   "id": "462a4f67",
   "metadata": {
    "execution": {
     "iopub.execute_input": "2023-05-17T14:49:04.539826Z",
     "iopub.status.busy": "2023-05-17T14:49:04.539402Z",
     "iopub.status.idle": "2023-05-17T14:49:04.544273Z",
     "shell.execute_reply": "2023-05-17T14:49:04.543123Z"
    },
    "papermill": {
     "duration": 0.026985,
     "end_time": "2023-05-17T14:49:04.546611",
     "exception": false,
     "start_time": "2023-05-17T14:49:04.519626",
     "status": "completed"
    },
    "tags": []
   },
   "outputs": [],
   "source": [
    "## Cancer cell Nodes ranges between 2-6 for maximum patients"
   ]
  },
  {
   "cell_type": "code",
   "execution_count": 16,
   "id": "0b10d87f",
   "metadata": {
    "execution": {
     "iopub.execute_input": "2023-05-17T14:49:04.586199Z",
     "iopub.status.busy": "2023-05-17T14:49:04.585740Z",
     "iopub.status.idle": "2023-05-17T14:49:04.870926Z",
     "shell.execute_reply": "2023-05-17T14:49:04.869553Z"
    },
    "papermill": {
     "duration": 0.308438,
     "end_time": "2023-05-17T14:49:04.873696",
     "exception": false,
     "start_time": "2023-05-17T14:49:04.565258",
     "status": "completed"
    },
    "tags": []
   },
   "outputs": [
    {
     "data": {
      "image/png": "[encoded data removed]",
      "text/plain": [
       "<Figure size 640x480 with 1 Axes>"
      ]
     },
     "metadata": {},
     "output_type": "display_data"
    }
   ],
   "source": [
    "plt.hist(df['pgr'], bins=30)\n",
    "plt.xlabel('PGR')\n",
    "plt.ylabel('Frequency')\n",
    "plt.title('Projesteron receptor quantity')\n",
    "plt.show()"
   ]
  },
  {
   "cell_type": "code",
   "execution_count": 17,
   "id": "84ad6879",
   "metadata": {
    "execution": {
     "iopub.execute_input": "2023-05-17T14:49:04.915291Z",
     "iopub.status.busy": "2023-05-17T14:49:04.914108Z",
     "iopub.status.idle": "2023-05-17T14:49:04.918857Z",
     "shell.execute_reply": "2023-05-17T14:49:04.917958Z"
    },
    "papermill": {
     "duration": 0.027679,
     "end_time": "2023-05-17T14:49:04.921199",
     "exception": false,
     "start_time": "2023-05-17T14:49:04.893520",
     "status": "completed"
    },
    "tags": []
   },
   "outputs": [],
   "source": [
    "## Projesteron receipter quantity falls between 0-70 of maximum patients"
   ]
  },
  {
   "cell_type": "code",
   "execution_count": 18,
   "id": "3260f611",
   "metadata": {
    "execution": {
     "iopub.execute_input": "2023-05-17T14:49:04.961337Z",
     "iopub.status.busy": "2023-05-17T14:49:04.960640Z",
     "iopub.status.idle": "2023-05-17T14:49:05.276842Z",
     "shell.execute_reply": "2023-05-17T14:49:05.275635Z"
    },
    "papermill": {
     "duration": 0.338721,
     "end_time": "2023-05-17T14:49:05.279196",
     "exception": false,
     "start_time": "2023-05-17T14:49:04.940475",
     "status": "completed"
    },
    "tags": []
   },
   "outputs": [
    {
     "data": {
      "image/png": "[encoded data removed]",
      "text/plain": [
       "<Figure size 640x480 with 1 Axes>"
      ]
     },
     "metadata": {},
     "output_type": "display_data"
    }
   ],
   "source": [
    "plt.hist(df['er'], bins=30)\n",
    "plt.xlabel('ER')\n",
    "plt.ylabel('Frequency')\n",
    "plt.title('Estrogen receptor quantity')\n",
    "plt.show()"
   ]
  },
  {
   "cell_type": "code",
   "execution_count": 22,
   "id": "a6bb4a90",
   "metadata": {
    "execution": {
     "iopub.execute_input": "2023-05-17T14:49:05.319388Z",
     "iopub.status.busy": "2023-05-17T14:49:05.318962Z",
     "iopub.status.idle": "2023-05-17T14:49:05.323457Z",
     "shell.execute_reply": "2023-05-17T14:49:05.322413Z"
    },
    "papermill": {
     "duration": 0.02721,
     "end_time": "2023-05-17T14:49:05.325641",
     "exception": false,
     "start_time": "2023-05-17T14:49:05.298431",
     "status": "completed"
    },
    "tags": []
   },
   "outputs": [],
   "source": [
    "## Estrogen recipter quanity falls between 0-70 for many patients"
   ]
  },
  {
   "cell_type": "code",
   "execution_count": 19,
   "id": "049d670c",
   "metadata": {
    "execution": {
     "iopub.execute_input": "2023-05-17T14:49:05.365777Z",
     "iopub.status.busy": "2023-05-17T14:49:05.365336Z",
     "iopub.status.idle": "2023-05-17T14:49:06.180863Z",
     "shell.execute_reply": "2023-05-17T14:49:06.179610Z"
    },
    "papermill": {
     "duration": 0.838974,
     "end_time": "2023-05-17T14:49:06.183651",
     "exception": false,
     "start_time": "2023-05-17T14:49:05.344677",
     "status": "completed"
    },
    "tags": []
   },
   "outputs": [
    {
     "data": {
      "text/plain": [
       "<Axes: >"
      ]
     },
     "execution_count": 19,
     "metadata": {},
     "output_type": "execute_result"
    },
    {
     "data": {
      "image/png": "[encoded data removed]",
      "text/plain": [
       "<Figure size 1200x600 with 2 Axes>"
      ]
     },
     "metadata": {},
     "output_type": "display_data"
    }
   ],
   "source": [
    "plt.figure(figsize=(12,6))\n",
    "sns.heatmap(df.corr(),annot=True, cmap = 'coolwarm')"
   ]
  },
  {
   "cell_type": "markdown",
   "id": "a2638c91",
   "metadata": {
    "papermill": {
     "duration": 0.020869,
     "end_time": "2023-05-17T14:49:06.226185",
     "exception": false,
     "start_time": "2023-05-17T14:49:06.205316",
     "status": "completed"
    },
    "tags": []
   },
   "source": [
    "Inference\n",
    "1) Only Age and Meno columns higher +ve corelation of observed which is 0.77 \n",
    "\n",
    "2) Means that Age is propoortional to menopausal\n",
    "\n",
    "3) No higher muticolinerity observed between features So we can use ML model directly else we need to normalize if Strong co-relation"
   ]
  },
  {
   "cell_type": "code",
   "execution_count": 20,
   "id": "57a4c2dd",
   "metadata": {
    "execution": {
     "iopub.execute_input": "2023-05-17T14:49:06.271488Z",
     "iopub.status.busy": "2023-05-17T14:49:06.271050Z",
     "iopub.status.idle": "2023-05-17T14:49:06.278015Z",
     "shell.execute_reply": "2023-05-17T14:49:06.276878Z"
    },
    "papermill": {
     "duration": 0.032428,
     "end_time": "2023-05-17T14:49:06.280430",
     "exception": false,
     "start_time": "2023-05-17T14:49:06.248002",
     "status": "completed"
    },
    "tags": []
   },
   "outputs": [
    {
     "data": {
      "text/plain": [
       "(686, 11)"
      ]
     },
     "execution_count": 20,
     "metadata": {},
     "output_type": "execute_result"
    }
   ],
   "source": [
    "df.shape"
   ]
  },
  {
   "cell_type": "code",
   "execution_count": 21,
   "id": "407d3aca",
   "metadata": {
    "execution": {
     "iopub.execute_input": "2023-05-17T14:49:06.325960Z",
     "iopub.status.busy": "2023-05-17T14:49:06.325276Z",
     "iopub.status.idle": "2023-05-17T14:49:06.331145Z",
     "shell.execute_reply": "2023-05-17T14:49:06.329991Z"
    },
    "papermill": {
     "duration": 0.031638,
     "end_time": "2023-05-17T14:49:06.333622",
     "exception": false,
     "start_time": "2023-05-17T14:49:06.301984",
     "status": "completed"
    },
    "tags": []
   },
   "outputs": [],
   "source": [
    "# Seperate Features and Target Variable\n",
    "X = df.iloc[:,0:10].values\n",
    "y = df.iloc[:,[10]].values"
   ]
  },
  {
   "cell_type": "code",
   "execution_count": 22,
   "id": "8ec2a086",
   "metadata": {
    "execution": {
     "iopub.execute_input": "2023-05-17T14:49:06.378707Z",
     "iopub.status.busy": "2023-05-17T14:49:06.378290Z",
     "iopub.status.idle": "2023-05-17T14:49:06.385585Z",
     "shell.execute_reply": "2023-05-17T14:49:06.384602Z"
    },
    "papermill": {
     "duration": 0.032482,
     "end_time": "2023-05-17T14:49:06.387765",
     "exception": false,
     "start_time": "2023-05-17T14:49:06.355283",
     "status": "completed"
    },
    "tags": []
   },
   "outputs": [
    {
     "name": "stdout",
     "output_type": "stream",
     "text": [
      "(548, 10)\n",
      "(138, 10)\n",
      "(548, 1)\n",
      "(138, 1)\n"
     ]
    }
   ],
   "source": [
    "# Train & Test Split\n",
    "X_train,X_test,y_train,y_test = train_test_split(X,y,test_size=0.20,random_state=24)\n",
    "print(X_train.shape)\n",
    "print(X_test.shape)\n",
    "print(y_train.shape)\n",
    "print(y_test.shape)"
   ]
  },
  {
   "cell_type": "code",
   "execution_count": 23,
   "id": "f92216ac",
   "metadata": {
    "execution": {
     "iopub.execute_input": "2023-05-17T14:49:06.432617Z",
     "iopub.status.busy": "2023-05-17T14:49:06.431731Z",
     "iopub.status.idle": "2023-05-17T14:49:06.438765Z",
     "shell.execute_reply": "2023-05-17T14:49:06.437842Z"
    },
    "papermill": {
     "duration": 0.032316,
     "end_time": "2023-05-17T14:49:06.441163",
     "exception": false,
     "start_time": "2023-05-17T14:49:06.408847",
     "status": "completed"
    },
    "tags": []
   },
   "outputs": [],
   "source": [
    "# Feature Scaling\n",
    "ss = StandardScaler()\n",
    "X_train_scaled = ss.fit_transform(X_train)\n",
    "X_test_scaled = ss.fit_transform(X_test)"
   ]
  },
  {
   "cell_type": "markdown",
   "id": "a94e0078",
   "metadata": {
    "papermill": {
     "duration": 0.021317,
     "end_time": "2023-05-17T14:49:06.483864",
     "exception": false,
     "start_time": "2023-05-17T14:49:06.462547",
     "status": "completed"
    },
    "tags": []
   },
   "source": [
    "# 4. Model Building"
   ]
  },
  {
   "cell_type": "markdown",
   "id": "56dd6ac1",
   "metadata": {
    "papermill": {
     "duration": 0.022488,
     "end_time": "2023-05-17T14:49:06.527686",
     "exception": false,
     "start_time": "2023-05-17T14:49:06.505198",
     "status": "completed"
    },
    "tags": []
   },
   "source": [
    "## 4.1 Logistic Regression"
   ]
  },
  {
   "cell_type": "code",
   "execution_count": 24,
   "id": "aa87e4be",
   "metadata": {
    "execution": {
     "iopub.execute_input": "2023-05-17T14:49:06.574870Z",
     "iopub.status.busy": "2023-05-17T14:49:06.574114Z",
     "iopub.status.idle": "2023-05-17T14:49:06.591256Z",
     "shell.execute_reply": "2023-05-17T14:49:06.589811Z"
    },
    "papermill": {
     "duration": 0.044489,
     "end_time": "2023-05-17T14:49:06.594071",
     "exception": false,
     "start_time": "2023-05-17T14:49:06.549582",
     "status": "completed"
    },
    "tags": []
   },
   "outputs": [],
   "source": [
    "lr_model = LogisticRegression(max_iter = 2500,verbose=0)\n",
    "lr_model.fit(X_train_scaled,y_train)\n",
    "y_preds_lr = lr_model.predict(X_test_scaled)"
   ]
  },
  {
   "cell_type": "code",
   "execution_count": 25,
   "id": "a9a10b48",
   "metadata": {
    "execution": {
     "iopub.execute_input": "2023-05-17T14:49:06.641790Z",
     "iopub.status.busy": "2023-05-17T14:49:06.641347Z",
     "iopub.status.idle": "2023-05-17T14:49:06.649761Z",
     "shell.execute_reply": "2023-05-17T14:49:06.648136Z"
    },
    "papermill": {
     "duration": 0.034375,
     "end_time": "2023-05-17T14:49:06.652332",
     "exception": false,
     "start_time": "2023-05-17T14:49:06.617957",
     "status": "completed"
    },
    "tags": []
   },
   "outputs": [
    {
     "name": "stdout",
     "output_type": "stream",
     "text": [
      "0.7391304347826086\n"
     ]
    }
   ],
   "source": [
    "from sklearn.metrics import accuracy_score, precision_score, recall_score, f1_score, roc_auc_score\n",
    "score = accuracy_score(y_test,y_preds_lr)\n",
    "print(score)"
   ]
  },
  {
   "cell_type": "markdown",
   "id": "6cb19033",
   "metadata": {
    "papermill": {
     "duration": 0.021295,
     "end_time": "2023-05-17T14:49:06.695286",
     "exception": false,
     "start_time": "2023-05-17T14:49:06.673991",
     "status": "completed"
    },
    "tags": []
   },
   "source": [
    "## 4.2 Random Forest - Ensemble Technique"
   ]
  },
  {
   "cell_type": "code",
   "execution_count": 26,
   "id": "9016c632",
   "metadata": {
    "execution": {
     "iopub.execute_input": "2023-05-17T14:49:06.739866Z",
     "iopub.status.busy": "2023-05-17T14:49:06.739425Z",
     "iopub.status.idle": "2023-05-17T14:49:09.515010Z",
     "shell.execute_reply": "2023-05-17T14:49:09.513580Z"
    },
    "papermill": {
     "duration": 2.800941,
     "end_time": "2023-05-17T14:49:09.517451",
     "exception": false,
     "start_time": "2023-05-17T14:49:06.716510",
     "status": "completed"
    },
    "tags": []
   },
   "outputs": [
    {
     "name": "stdout",
     "output_type": "stream",
     "text": [
      "Accuracy Score:0.7536231884057971\n",
      "F1 Score is:0.7493944510259352\n",
      "\n",
      "Confusion Matrix:\n",
      "[[62  9]\n",
      " [25 42]]\n",
      "\n",
      "Classification Report:\n",
      "              precision    recall  f1-score   support\n",
      "\n",
      "           0       0.71      0.87      0.78        71\n",
      "           1       0.82      0.63      0.71        67\n",
      "\n",
      "    accuracy                           0.75       138\n",
      "   macro avg       0.77      0.75      0.75       138\n",
      "weighted avg       0.77      0.75      0.75       138\n",
      "\n"
     ]
    }
   ],
   "source": [
    "# Random Forest Classifier  -Ensemble Learning\n",
    "from sklearn.ensemble import RandomForestClassifier\n",
    "rf = RandomForestClassifier(n_estimators=3000, max_depth=10, random_state=42, n_jobs=-1)\n",
    "rf_model = rf.fit(X_train_scaled,y_train)\n",
    "y_pred_rf = rf_model.predict(X_test_scaled)\n",
    "rf_score = accuracy_score(y_test,y_pred_rf)\n",
    "print(f\"Accuracy Score:{rf_score}\")\n",
    "f1_rf = f1_score(y_test, y_pred_rf, average='weighted')\n",
    "print(f\"F1 Score is:{f1_rf}\")\n",
    "# confusion matrix and classification report\n",
    "print(\"\\nConfusion Matrix:\")\n",
    "print(confusion_matrix(y_test, y_pred_rf))\n",
    "\n",
    "print(\"\\nClassification Report:\")\n",
    "print(classification_report(y_test, y_pred_rf))"
   ]
  },
  {
   "cell_type": "markdown",
   "id": "826b9868",
   "metadata": {},
   "source": [
    "## **4.2.a. RF optimized**"
   ]
  },
  {
   "cell_type": "code",
   "execution_count": null,
   "id": "c15dd631",
   "metadata": {},
   "outputs": [
    {
     "name": "stdout",
     "output_type": "stream",
     "text": [
      "Fitting 5 folds for each of 432 candidates, totalling 2160 fits\n"
     ]
    },
    {
     "ename": "KeyboardInterrupt",
     "evalue": "",
     "output_type": "error",
     "traceback": [
      "\u001b[31m---------------------------------------------------------------------------\u001b[39m",
      "\u001b[31mKeyboardInterrupt\u001b[39m                         Traceback (most recent call last)",
      "\u001b[36mCell\u001b[39m\u001b[36m \u001b[39m\u001b[32mIn[29]\u001b[39m\u001b[32m, line 30\u001b[39m\n\u001b[32m     22\u001b[39m grid_search = GridSearchCV(estimator=rf,\n\u001b[32m     23\u001b[39m                            param_grid=param_grid,\n\u001b[32m     24\u001b[39m                            cv=\u001b[32m5\u001b[39m,\n\u001b[32m     25\u001b[39m                            n_jobs=-\u001b[32m1\u001b[39m,\n\u001b[32m     26\u001b[39m                            scoring=\u001b[33m'\u001b[39m\u001b[33maccuracy\u001b[39m\u001b[33m'\u001b[39m,\n\u001b[32m     27\u001b[39m                            verbose=\u001b[32m1\u001b[39m)\n\u001b[32m     29\u001b[39m \u001b[38;5;66;03m# Fit grid search on the training data (assume X_train_scaled and y_train are already defined)\u001b[39;00m\n\u001b[32m---> \u001b[39m\u001b[32m30\u001b[39m \u001b[43mgrid_search\u001b[49m\u001b[43m.\u001b[49m\u001b[43mfit\u001b[49m\u001b[43m(\u001b[49m\u001b[43mX_train_scaled\u001b[49m\u001b[43m,\u001b[49m\u001b[43m \u001b[49m\u001b[43my_train\u001b[49m\u001b[43m)\u001b[49m\n\u001b[32m     32\u001b[39m \u001b[38;5;66;03m# Print the best hyperparameters found\u001b[39;00m\n\u001b[32m     33\u001b[39m \u001b[38;5;28mprint\u001b[39m(\u001b[33m\"\u001b[39m\u001b[33mBest Hyperparameters:\u001b[39m\u001b[33m\"\u001b[39m)\n",
      "\u001b[36mFile \u001b[39m\u001b[32m/opt/homebrew/lib/python3.13/site-packages/sklearn/base.py:1389\u001b[39m, in \u001b[36m_fit_context.<locals>.decorator.<locals>.wrapper\u001b[39m\u001b[34m(estimator, *args, **kwargs)\u001b[39m\n\u001b[32m   1382\u001b[39m     estimator._validate_params()\n\u001b[32m   1384\u001b[39m \u001b[38;5;28;01mwith\u001b[39;00m config_context(\n\u001b[32m   1385\u001b[39m     skip_parameter_validation=(\n\u001b[32m   1386\u001b[39m         prefer_skip_nested_validation \u001b[38;5;129;01mor\u001b[39;00m global_skip_validation\n\u001b[32m   1387\u001b[39m     )\n\u001b[32m   1388\u001b[39m ):\n\u001b[32m-> \u001b[39m\u001b[32m1389\u001b[39m     \u001b[38;5;28;01mreturn\u001b[39;00m \u001b[43mfit_method\u001b[49m\u001b[43m(\u001b[49m\u001b[43mestimator\u001b[49m\u001b[43m,\u001b[49m\u001b[43m \u001b[49m\u001b[43m*\u001b[49m\u001b[43margs\u001b[49m\u001b[43m,\u001b[49m\u001b[43m \u001b[49m\u001b[43m*\u001b[49m\u001b[43m*\u001b[49m\u001b[43mkwargs\u001b[49m\u001b[43m)\u001b[49m\n",
      "\u001b[36mFile \u001b[39m\u001b[32m/opt/homebrew/lib/python3.13/site-packages/sklearn/model_selection/_search.py:1024\u001b[39m, in \u001b[36mBaseSearchCV.fit\u001b[39m\u001b[34m(self, X, y, **params)\u001b[39m\n\u001b[32m   1018\u001b[39m     results = \u001b[38;5;28mself\u001b[39m._format_results(\n\u001b[32m   1019\u001b[39m         all_candidate_params, n_splits, all_out, all_more_results\n\u001b[32m   1020\u001b[39m     )\n\u001b[32m   1022\u001b[39m     \u001b[38;5;28;01mreturn\u001b[39;00m results\n\u001b[32m-> \u001b[39m\u001b[32m1024\u001b[39m \u001b[38;5;28;43mself\u001b[39;49m\u001b[43m.\u001b[49m\u001b[43m_run_search\u001b[49m\u001b[43m(\u001b[49m\u001b[43mevaluate_candidates\u001b[49m\u001b[43m)\u001b[49m\n\u001b[32m   1026\u001b[39m \u001b[38;5;66;03m# multimetric is determined here because in the case of a callable\u001b[39;00m\n\u001b[32m   1027\u001b[39m \u001b[38;5;66;03m# self.scoring the return type is only known after calling\u001b[39;00m\n\u001b[32m   1028\u001b[39m first_test_score = all_out[\u001b[32m0\u001b[39m][\u001b[33m\"\u001b[39m\u001b[33mtest_scores\u001b[39m\u001b[33m\"\u001b[39m]\n",
      "\u001b[36mFile \u001b[39m\u001b[32m/opt/homebrew/lib/python3.13/site-packages/sklearn/model_selection/_search.py:1571\u001b[39m, in \u001b[36mGridSearchCV._run_search\u001b[39m\u001b[34m(self, evaluate_candidates)\u001b[39m\n\u001b[32m   1569\u001b[39m \u001b[38;5;28;01mdef\u001b[39;00m\u001b[38;5;250m \u001b[39m\u001b[34m_run_search\u001b[39m(\u001b[38;5;28mself\u001b[39m, evaluate_candidates):\n\u001b[32m   1570\u001b[39m \u001b[38;5;250m    \u001b[39m\u001b[33;03m\"\"\"Search all candidates in param_grid\"\"\"\u001b[39;00m\n\u001b[32m-> \u001b[39m\u001b[32m1571\u001b[39m     \u001b[43mevaluate_candidates\u001b[49m\u001b[43m(\u001b[49m\u001b[43mParameterGrid\u001b[49m\u001b[43m(\u001b[49m\u001b[38;5;28;43mself\u001b[39;49m\u001b[43m.\u001b[49m\u001b[43mparam_grid\u001b[49m\u001b[43m)\u001b[49m\u001b[43m)\u001b[49m\n",
      "\u001b[36mFile \u001b[39m\u001b[32m/opt/homebrew/lib/python3.13/site-packages/sklearn/model_selection/_search.py:970\u001b[39m, in \u001b[36mBaseSearchCV.fit.<locals>.evaluate_candidates\u001b[39m\u001b[34m(candidate_params, cv, more_results)\u001b[39m\n\u001b[32m    962\u001b[39m \u001b[38;5;28;01mif\u001b[39;00m \u001b[38;5;28mself\u001b[39m.verbose > \u001b[32m0\u001b[39m:\n\u001b[32m    963\u001b[39m     \u001b[38;5;28mprint\u001b[39m(\n\u001b[32m    964\u001b[39m         \u001b[33m\"\u001b[39m\u001b[33mFitting \u001b[39m\u001b[38;5;132;01m{0}\u001b[39;00m\u001b[33m folds for each of \u001b[39m\u001b[38;5;132;01m{1}\u001b[39;00m\u001b[33m candidates,\u001b[39m\u001b[33m\"\u001b[39m\n\u001b[32m    965\u001b[39m         \u001b[33m\"\u001b[39m\u001b[33m totalling \u001b[39m\u001b[38;5;132;01m{2}\u001b[39;00m\u001b[33m fits\u001b[39m\u001b[33m\"\u001b[39m.format(\n\u001b[32m    966\u001b[39m             n_splits, n_candidates, n_candidates * n_splits\n\u001b[32m    967\u001b[39m         )\n\u001b[32m    968\u001b[39m     )\n\u001b[32m--> \u001b[39m\u001b[32m970\u001b[39m out = \u001b[43mparallel\u001b[49m\u001b[43m(\u001b[49m\n\u001b[32m    971\u001b[39m \u001b[43m    \u001b[49m\u001b[43mdelayed\u001b[49m\u001b[43m(\u001b[49m\u001b[43m_fit_and_score\u001b[49m\u001b[43m)\u001b[49m\u001b[43m(\u001b[49m\n\u001b[32m    972\u001b[39m \u001b[43m        \u001b[49m\u001b[43mclone\u001b[49m\u001b[43m(\u001b[49m\u001b[43mbase_estimator\u001b[49m\u001b[43m)\u001b[49m\u001b[43m,\u001b[49m\n\u001b[32m    973\u001b[39m \u001b[43m        \u001b[49m\u001b[43mX\u001b[49m\u001b[43m,\u001b[49m\n\u001b[32m    974\u001b[39m \u001b[43m        \u001b[49m\u001b[43my\u001b[49m\u001b[43m,\u001b[49m\n\u001b[32m    975\u001b[39m \u001b[43m        \u001b[49m\u001b[43mtrain\u001b[49m\u001b[43m=\u001b[49m\u001b[43mtrain\u001b[49m\u001b[43m,\u001b[49m\n\u001b[32m    976\u001b[39m \u001b[43m        \u001b[49m\u001b[43mtest\u001b[49m\u001b[43m=\u001b[49m\u001b[43mtest\u001b[49m\u001b[43m,\u001b[49m\n\u001b[32m    977\u001b[39m \u001b[43m        \u001b[49m\u001b[43mparameters\u001b[49m\u001b[43m=\u001b[49m\u001b[43mparameters\u001b[49m\u001b[43m,\u001b[49m\n\u001b[32m    978\u001b[39m \u001b[43m        \u001b[49m\u001b[43msplit_progress\u001b[49m\u001b[43m=\u001b[49m\u001b[43m(\u001b[49m\u001b[43msplit_idx\u001b[49m\u001b[43m,\u001b[49m\u001b[43m \u001b[49m\u001b[43mn_splits\u001b[49m\u001b[43m)\u001b[49m\u001b[43m,\u001b[49m\n\u001b[32m    979\u001b[39m \u001b[43m        \u001b[49m\u001b[43mcandidate_progress\u001b[49m\u001b[43m=\u001b[49m\u001b[43m(\u001b[49m\u001b[43mcand_idx\u001b[49m\u001b[43m,\u001b[49m\u001b[43m \u001b[49m\u001b[43mn_candidates\u001b[49m\u001b[43m)\u001b[49m\u001b[43m,\u001b[49m\n\u001b[32m    980\u001b[39m \u001b[43m        \u001b[49m\u001b[43m*\u001b[49m\u001b[43m*\u001b[49m\u001b[43mfit_and_score_kwargs\u001b[49m\u001b[43m,\u001b[49m\n\u001b[32m    981\u001b[39m \u001b[43m    \u001b[49m\u001b[43m)\u001b[49m\n\u001b[32m    982\u001b[39m \u001b[43m    \u001b[49m\u001b[38;5;28;43;01mfor\u001b[39;49;00m\u001b[43m \u001b[49m\u001b[43m(\u001b[49m\u001b[43mcand_idx\u001b[49m\u001b[43m,\u001b[49m\u001b[43m \u001b[49m\u001b[43mparameters\u001b[49m\u001b[43m)\u001b[49m\u001b[43m,\u001b[49m\u001b[43m \u001b[49m\u001b[43m(\u001b[49m\u001b[43msplit_idx\u001b[49m\u001b[43m,\u001b[49m\u001b[43m \u001b[49m\u001b[43m(\u001b[49m\u001b[43mtrain\u001b[49m\u001b[43m,\u001b[49m\u001b[43m \u001b[49m\u001b[43mtest\u001b[49m\u001b[43m)\u001b[49m\u001b[43m)\u001b[49m\u001b[43m \u001b[49m\u001b[38;5;129;43;01min\u001b[39;49;00m\u001b[43m \u001b[49m\u001b[43mproduct\u001b[49m\u001b[43m(\u001b[49m\n\u001b[32m    983\u001b[39m \u001b[43m        \u001b[49m\u001b[38;5;28;43menumerate\u001b[39;49m\u001b[43m(\u001b[49m\u001b[43mcandidate_params\u001b[49m\u001b[43m)\u001b[49m\u001b[43m,\u001b[49m\n\u001b[32m    984\u001b[39m \u001b[43m        \u001b[49m\u001b[38;5;28;43menumerate\u001b[39;49m\u001b[43m(\u001b[49m\u001b[43mcv\u001b[49m\u001b[43m.\u001b[49m\u001b[43msplit\u001b[49m\u001b[43m(\u001b[49m\u001b[43mX\u001b[49m\u001b[43m,\u001b[49m\u001b[43m \u001b[49m\u001b[43my\u001b[49m\u001b[43m,\u001b[49m\u001b[43m \u001b[49m\u001b[43m*\u001b[49m\u001b[43m*\u001b[49m\u001b[43mrouted_params\u001b[49m\u001b[43m.\u001b[49m\u001b[43msplitter\u001b[49m\u001b[43m.\u001b[49m\u001b[43msplit\u001b[49m\u001b[43m)\u001b[49m\u001b[43m)\u001b[49m\u001b[43m,\u001b[49m\n\u001b[32m    985\u001b[39m \u001b[43m    \u001b[49m\u001b[43m)\u001b[49m\n\u001b[32m    986\u001b[39m \u001b[43m\u001b[49m\u001b[43m)\u001b[49m\n\u001b[32m    988\u001b[39m \u001b[38;5;28;01mif\u001b[39;00m \u001b[38;5;28mlen\u001b[39m(out) < \u001b[32m1\u001b[39m:\n\u001b[32m    989\u001b[39m     \u001b[38;5;28;01mraise\u001b[39;00m \u001b[38;5;167;01mValueError\u001b[39;00m(\n\u001b[32m    990\u001b[39m         \u001b[33m\"\u001b[39m\u001b[33mNo fits were performed. \u001b[39m\u001b[33m\"\u001b[39m\n\u001b[32m    991\u001b[39m         \u001b[33m\"\u001b[39m\u001b[33mWas the CV iterator empty? \u001b[39m\u001b[33m\"\u001b[39m\n\u001b[32m    992\u001b[39m         \u001b[33m\"\u001b[39m\u001b[33mWere there no candidates?\u001b[39m\u001b[33m\"\u001b[39m\n\u001b[32m    993\u001b[39m     )\n",
      "\u001b[36mFile \u001b[39m\u001b[32m/opt/homebrew/lib/python3.13/site-packages/sklearn/utils/parallel.py:77\u001b[39m, in \u001b[36mParallel.__call__\u001b[39m\u001b[34m(self, iterable)\u001b[39m\n\u001b[32m     72\u001b[39m config = get_config()\n\u001b[32m     73\u001b[39m iterable_with_config = (\n\u001b[32m     74\u001b[39m     (_with_config(delayed_func, config), args, kwargs)\n\u001b[32m     75\u001b[39m     \u001b[38;5;28;01mfor\u001b[39;00m delayed_func, args, kwargs \u001b[38;5;129;01min\u001b[39;00m iterable\n\u001b[32m     76\u001b[39m )\n\u001b[32m---> \u001b[39m\u001b[32m77\u001b[39m \u001b[38;5;28;01mreturn\u001b[39;00m \u001b[38;5;28;43msuper\u001b[39;49m\u001b[43m(\u001b[49m\u001b[43m)\u001b[49m\u001b[43m.\u001b[49m\u001b[34;43m__call__\u001b[39;49m\u001b[43m(\u001b[49m\u001b[43miterable_with_config\u001b[49m\u001b[43m)\u001b[49m\n",
      "\u001b[36mFile \u001b[39m\u001b[32m/opt/homebrew/lib/python3.13/site-packages/joblib/parallel.py:2007\u001b[39m, in \u001b[36mParallel.__call__\u001b[39m\u001b[34m(self, iterable)\u001b[39m\n\u001b[32m   2001\u001b[39m \u001b[38;5;66;03m# The first item from the output is blank, but it makes the interpreter\u001b[39;00m\n\u001b[32m   2002\u001b[39m \u001b[38;5;66;03m# progress until it enters the Try/Except block of the generator and\u001b[39;00m\n\u001b[32m   2003\u001b[39m \u001b[38;5;66;03m# reaches the first `yield` statement. This starts the asynchronous\u001b[39;00m\n\u001b[32m   2004\u001b[39m \u001b[38;5;66;03m# dispatch of the tasks to the workers.\u001b[39;00m\n\u001b[32m   2005\u001b[39m \u001b[38;5;28mnext\u001b[39m(output)\n\u001b[32m-> \u001b[39m\u001b[32m2007\u001b[39m \u001b[38;5;28;01mreturn\u001b[39;00m output \u001b[38;5;28;01mif\u001b[39;00m \u001b[38;5;28mself\u001b[39m.return_generator \u001b[38;5;28;01melse\u001b[39;00m \u001b[38;5;28;43mlist\u001b[39;49m\u001b[43m(\u001b[49m\u001b[43moutput\u001b[49m\u001b[43m)\u001b[49m\n",
      "\u001b[36mFile \u001b[39m\u001b[32m/opt/homebrew/lib/python3.13/site-packages/joblib/parallel.py:1650\u001b[39m, in \u001b[36mParallel._get_outputs\u001b[39m\u001b[34m(self, iterator, pre_dispatch)\u001b[39m\n\u001b[32m   1647\u001b[39m     \u001b[38;5;28;01myield\u001b[39;00m\n\u001b[32m   1649\u001b[39m     \u001b[38;5;28;01mwith\u001b[39;00m \u001b[38;5;28mself\u001b[39m._backend.retrieval_context():\n\u001b[32m-> \u001b[39m\u001b[32m1650\u001b[39m         \u001b[38;5;28;01myield from\u001b[39;00m \u001b[38;5;28mself\u001b[39m._retrieve()\n\u001b[32m   1652\u001b[39m \u001b[38;5;28;01mexcept\u001b[39;00m \u001b[38;5;167;01mGeneratorExit\u001b[39;00m:\n\u001b[32m   1653\u001b[39m     \u001b[38;5;66;03m# The generator has been garbage collected before being fully\u001b[39;00m\n\u001b[32m   1654\u001b[39m     \u001b[38;5;66;03m# consumed. This aborts the remaining tasks if possible and warn\u001b[39;00m\n\u001b[32m   1655\u001b[39m     \u001b[38;5;66;03m# the user if necessary.\u001b[39;00m\n\u001b[32m   1656\u001b[39m     \u001b[38;5;28mself\u001b[39m._exception = \u001b[38;5;28;01mTrue\u001b[39;00m\n",
      "\u001b[36mFile \u001b[39m\u001b[32m/opt/homebrew/lib/python3.13/site-packages/joblib/parallel.py:1762\u001b[39m, in \u001b[36mParallel._retrieve\u001b[39m\u001b[34m(self)\u001b[39m\n\u001b[32m   1757\u001b[39m \u001b[38;5;66;03m# If the next job is not ready for retrieval yet, we just wait for\u001b[39;00m\n\u001b[32m   1758\u001b[39m \u001b[38;5;66;03m# async callbacks to progress.\u001b[39;00m\n\u001b[32m   1759\u001b[39m \u001b[38;5;28;01mif\u001b[39;00m ((\u001b[38;5;28mlen\u001b[39m(\u001b[38;5;28mself\u001b[39m._jobs) == \u001b[32m0\u001b[39m) \u001b[38;5;129;01mor\u001b[39;00m\n\u001b[32m   1760\u001b[39m     (\u001b[38;5;28mself\u001b[39m._jobs[\u001b[32m0\u001b[39m].get_status(\n\u001b[32m   1761\u001b[39m         timeout=\u001b[38;5;28mself\u001b[39m.timeout) == TASK_PENDING)):\n\u001b[32m-> \u001b[39m\u001b[32m1762\u001b[39m     \u001b[43mtime\u001b[49m\u001b[43m.\u001b[49m\u001b[43msleep\u001b[49m\u001b[43m(\u001b[49m\u001b[32;43m0.01\u001b[39;49m\u001b[43m)\u001b[49m\n\u001b[32m   1763\u001b[39m     \u001b[38;5;28;01mcontinue\u001b[39;00m\n\u001b[32m   1765\u001b[39m \u001b[38;5;66;03m# We need to be careful: the job list can be filling up as\u001b[39;00m\n\u001b[32m   1766\u001b[39m \u001b[38;5;66;03m# we empty it and Python list are not thread-safe by\u001b[39;00m\n\u001b[32m   1767\u001b[39m \u001b[38;5;66;03m# default hence the use of the lock\u001b[39;00m\n",
      "\u001b[31mKeyboardInterrupt\u001b[39m: "
     ]
    }
   ],
   "source": [
    "from sklearn.ensemble import RandomForestClassifier\n",
    "from sklearn.model_selection import GridSearchCV\n",
    "from sklearn.metrics import accuracy_score, f1_score\n",
    "\n",
    "# Convert y_train and y_test to 1D arrays using ravel()\n",
    "y_train = y_train.ravel()\n",
    "y_test = y_test.ravel()\n",
    "\n",
    "# hyperparameters\n",
    "param_grid = {\n",
    "    'n_estimators': [100, 300, 500, 800],    # Number of trees\n",
    "    'max_depth': [None, 5, 10, 15],          # Maximum depth \n",
    "    'min_samples_split': [2, 5, 10],         # Minimum samples to split a node\n",
    "    'min_samples_leaf': [1, 2, 4],           # Minimum number samples at each leaf node\n",
    "    'max_features': ['auto', 'sqrt', 'log2'] # Number of features at each split\n",
    "}\n",
    "\n",
    "# random state\n",
    "rf = RandomForestClassifier(random_state=42, n_jobs=-1)\n",
    "\n",
    "# GridSearchCV \n",
    "grid_search = GridSearchCV(estimator=rf,\n",
    "                           param_grid=param_grid,\n",
    "                           cv=5,\n",
    "                           n_jobs=-1,\n",
    "                           scoring='accuracy',\n",
    "                           verbose=1)\n",
    "\n",
    "grid_search.fit(X_train_scaled, y_train)\n",
    "\n",
    "print(\"Best Hyperparameters:\")\n",
    "print(grid_search.best_params_)\n",
    "\n",
    "# Use the best hyperparameters on the test set\n",
    "best_rf = grid_search.best_estimator_\n",
    "y_pred = best_rf.predict(X_test_scaled)\n",
    "\n",
    "# Evaluate performance\n",
    "accuracy = accuracy_score(y_test, y_pred)\n",
    "f1 = f1_score(y_test, y_pred, average='weighted')\n",
    "\n",
    "print(f\"Optimized Random Forest Accuracy: {accuracy:.4f}\")\n",
    "print(f\"Optimized Random Forest Weighted F1 Score: {f1:.4f}\")\n"
   ]
  },
  {
   "cell_type": "markdown",
   "id": "1fc231dd",
   "metadata": {
    "papermill": {
     "duration": 0.021673,
     "end_time": "2023-05-17T14:49:09.560886",
     "exception": false,
     "start_time": "2023-05-17T14:49:09.539213",
     "status": "completed"
    },
    "tags": []
   },
   "source": [
    "## 4.3 Gradient Boosting"
   ]
  },
  {
   "cell_type": "code",
   "execution_count": 27,
   "id": "6b39defe",
   "metadata": {
    "execution": {
     "iopub.execute_input": "2023-05-17T14:49:09.606128Z",
     "iopub.status.busy": "2023-05-17T14:49:09.605703Z",
     "iopub.status.idle": "2023-05-17T14:49:09.815363Z",
     "shell.execute_reply": "2023-05-17T14:49:09.813868Z"
    },
    "papermill": {
     "duration": 0.235593,
     "end_time": "2023-05-17T14:49:09.818054",
     "exception": false,
     "start_time": "2023-05-17T14:49:09.582461",
     "status": "completed"
    },
    "tags": []
   },
   "outputs": [
    {
     "name": "stdout",
     "output_type": "stream",
     "text": [
      "Accuracy Score:0.7608695652173914\n",
      "F1 Score:0.7552254928436403\n"
     ]
    }
   ],
   "source": [
    "from sklearn.ensemble import GradientBoostingClassifier\n",
    "gb = GradientBoostingClassifier(n_estimators=100, learning_rate=0.1, max_depth=3, random_state=42)\n",
    "gb_model = gb.fit(X_train_scaled,y_train)\n",
    "y_pred_gb = gb_model.predict(X_test_scaled)\n",
    "gb_score = accuracy_score(y_test,y_pred_gb)\n",
    "print(f\"Accuracy Score:{gb_score}\")\n",
    "f1_gb = f1_score(y_test, y_pred_gb, average='weighted')\n",
    "print(f\"F1 Score:{f1_gb}\")\n"
   ]
  },
  {
   "cell_type": "code",
   "execution_count": 28,
   "id": "7278a8f1",
   "metadata": {},
   "outputs": [
    {
     "name": "stdout",
     "output_type": "stream",
     "text": [
      "Fitting 5 folds for each of 16 candidates, totalling 80 fits\n",
      "Best Hyperparameters for KNN:\n",
      "{'metric': 'manhattan', 'n_neighbors': 9, 'weights': 'distance'}\n",
      "Optimized KNN Accuracy: 0.7174\n",
      "Optimized KNN Weighted F1 Score: 0.7149\n",
      "Confusion Matrix for KNN:\n",
      "[[57 14]\n",
      " [25 42]]\n",
      "Fitting 5 folds for each of 16 candidates, totalling 80 fits\n",
      "\n",
      "Best Hyperparameters for SVM:\n",
      "{'C': 0.1, 'gamma': 'scale', 'kernel': 'linear'}\n",
      "Optimized SVM Accuracy: 0.7391\n",
      "Optimized SVM Weighted F1 Score: 0.7356\n",
      "Confusion Matrix for SVM:\n",
      "[[60 11]\n",
      " [25 42]]\n"
     ]
    }
   ],
   "source": [
    "from sklearn.neighbors import KNeighborsClassifier\n",
    "from sklearn.svm import SVC\n",
    "from sklearn.model_selection import GridSearchCV\n",
    "from sklearn.metrics import accuracy_score, f1_score, confusion_matrix\n",
    "\n",
    "# Make y_train and y_test into 1D arrays\n",
    "y_train = y_train.ravel()\n",
    "y_test = y_test.ravel()\n",
    "\n",
    "# KNN hyperparameter\n",
    "param_grid_knn = {\n",
    "    'n_neighbors': [3, 5, 7, 9],\n",
    "    'weights': ['uniform', 'distance'],\n",
    "    'metric': ['euclidean', 'manhattan']\n",
    "}\n",
    "knn = KNeighborsClassifier()\n",
    "# GridSearchCV KNN\n",
    "grid_search_knn = GridSearchCV(estimator=knn, \n",
    "                               param_grid=param_grid_knn, \n",
    "                               cv=5, \n",
    "                               n_jobs=-1, \n",
    "                               scoring='accuracy', \n",
    "                               verbose=1)\n",
    "\n",
    "grid_search_knn.fit(X_train_scaled, y_train)\n",
    "\n",
    "print(\"Best Hyperparameters for KNN:\")\n",
    "print(grid_search_knn.best_params_)\n",
    "\n",
    "# Use best KNN hyperparameters on the test set\n",
    "best_knn = grid_search_knn.best_estimator_\n",
    "y_pred_knn = best_knn.predict(X_test_scaled)\n",
    "\n",
    "# Evaluate performance\n",
    "accuracy_knn = accuracy_score(y_test, y_pred_knn)\n",
    "f1_knn = f1_score(y_test, y_pred_knn, average='weighted')\n",
    "cm_knn = confusion_matrix(y_test, y_pred_knn)\n",
    "\n",
    "print(f\"Optimized KNN Accuracy: {accuracy_knn:.4f}\")\n",
    "print(f\"Optimized KNN Weighted F1 Score: {f1_knn:.4f}\")\n",
    "print(\"Confusion Matrix for KNN:\")\n",
    "print(cm_knn)\n",
    "\n",
    "# SVM Hyperparameters\n",
    "param_grid_svm = {\n",
    "    'C': [0.1, 1, 10, 100],\n",
    "    'gamma': ['scale', 'auto'],\n",
    "    'kernel': ['rbf', 'linear']\n",
    "}\n",
    "\n",
    "svm = SVC(probability=True, random_state=42)\n",
    "\n",
    "# GridSearchCV\n",
    "grid_search_svm = GridSearchCV(estimator=svm, \n",
    "                               param_grid=param_grid_svm, \n",
    "                               cv=5, \n",
    "                               n_jobs=-1, \n",
    "                               scoring='accuracy', \n",
    "                               verbose=1)\n",
    "\n",
    "grid_search_svm.fit(X_train_scaled, y_train)\n",
    "\n",
    "print(\"\\nBest Hyperparameters for SVM:\")\n",
    "print(grid_search_svm.best_params_)\n",
    "\n",
    "# Use best SVM hyperparameters on the test set\n",
    "best_svm = grid_search_svm.best_estimator_\n",
    "y_pred_svm = best_svm.predict(X_test_scaled)\n",
    "\n",
    "# Evaluate performance\n",
    "accuracy_svm = accuracy_score(y_test, y_pred_svm)\n",
    "f1_svm = f1_score(y_test, y_pred_svm, average='weighted')\n",
    "cm_svm = confusion_matrix(y_test, y_pred_svm)\n",
    "\n",
    "print(f\"Optimized SVM Accuracy: {accuracy_svm:.4f}\")\n",
    "print(f\"Optimized SVM Weighted F1 Score: {f1_svm:.4f}\")\n",
    "print(\"Confusion Matrix for SVM:\")\n",
    "print(cm_svm)\n"
   ]
  },
  {
   "cell_type": "markdown",
   "id": "ffd8f9a6",
   "metadata": {},
   "source": [
    "## Neural Network method"
   ]
  },
  {
   "cell_type": "code",
   "execution_count": 29,
   "id": "4873bec8",
   "metadata": {},
   "outputs": [
    {
     "name": "stdout",
     "output_type": "stream",
     "text": [
      "Using device: mps\n",
      "\n",
      "--- Fold 1/5 ---\n",
      "Fold 1: ADASYN resampled training set shape: (509, 10), (509,)\n",
      "Epoch 1/50 | Train Loss: 0.6712, Acc: 0.5580, F1: 0.5263, Recall: 0.4941, AUC: 0.6114 | Val Loss: 0.6512, Acc: 0.7273, F1: 0.6429, Recall: 0.5400, AUC: 0.7653\n",
      "Epoch 1: Improvement found, saving model state!\n",
      "Epoch 2/50 | Train Loss: 0.6200, Acc: 0.6758, F1: 0.6541, Recall: 0.6166, AUC: 0.7288 | Val Loss: 0.5853, Acc: 0.7273, F1: 0.6809, Recall: 0.6400, AUC: 0.8050\n",
      "Epoch 2: Improvement found, saving model state!\n",
      "Epoch 3/50 | Train Loss: 0.5690, Acc: 0.7289, F1: 0.7218, Recall: 0.7075, AUC: 0.7892 | Val Loss: 0.5542, Acc: 0.7455, F1: 0.7083, Recall: 0.6800, AUC: 0.8157\n",
      "Epoch 3: Improvement found, saving model state!\n",
      "Epoch 4/50 | Train Loss: 0.5553, Acc: 0.7289, F1: 0.7206, Recall: 0.7036, AUC: 0.7974 | Val Loss: 0.5305, Acc: 0.7545, F1: 0.7216, Recall: 0.7000, AUC: 0.8250\n",
      "Epoch 4: Improvement found, saving model state!\n",
      "Epoch 5/50 | Train Loss: 0.5296, Acc: 0.7505, F1: 0.7434, Recall: 0.7273, AUC: 0.8211 | Val Loss: 0.5183, Acc: 0.7545, F1: 0.7216, Recall: 0.7000, AUC: 0.8287\n",
      "Epoch 5: Improvement found, saving model state!\n",
      "Epoch 6/50 | Train Loss: 0.5410, Acc: 0.7171, F1: 0.7085, Recall: 0.6917, AUC: 0.8022 | Val Loss: 0.5102, Acc: 0.7636, F1: 0.7347, Recall: 0.7200, AUC: 0.8343\n",
      "Epoch 6: Improvement found, saving model state!\n",
      "Epoch 7/50 | Train Loss: 0.5378, Acc: 0.7367, F1: 0.7331, Recall: 0.7273, AUC: 0.8102 | Val Loss: 0.5054, Acc: 0.7545, F1: 0.7273, Recall: 0.7200, AUC: 0.8323\n",
      "Epoch 7: Improvement found, saving model state!\n",
      "Epoch 8/50 | Train Loss: 0.5087, Acc: 0.7721, F1: 0.7689, Recall: 0.7628, AUC: 0.8343 | Val Loss: 0.4939, Acc: 0.7545, F1: 0.7273, Recall: 0.7200, AUC: 0.8417\n",
      "Epoch 8: Improvement found, saving model state!\n",
      "Epoch 9/50 | Train Loss: 0.5064, Acc: 0.7623, F1: 0.7695, Recall: 0.7984, AUC: 0.8316 | Val Loss: 0.4930, Acc: 0.7545, F1: 0.7273, Recall: 0.7200, AUC: 0.8400\n",
      "Epoch 9: Improvement found, saving model state!\n",
      "Epoch 10/50 | Train Loss: 0.5222, Acc: 0.7662, F1: 0.7680, Recall: 0.7787, AUC: 0.8232 | Val Loss: 0.4929, Acc: 0.7545, F1: 0.7327, Recall: 0.7400, AUC: 0.8367\n",
      "Epoch 10: Improvement found, saving model state!\n",
      "Epoch 11/50 | Train Loss: 0.4916, Acc: 0.7662, F1: 0.7707, Recall: 0.7905, AUC: 0.8406 | Val Loss: 0.4915, Acc: 0.7364, F1: 0.7184, Recall: 0.7400, AUC: 0.8367\n",
      "Epoch 11: Improvement found, saving model state!\n",
      "Epoch 12/50 | Train Loss: 0.4559, Acc: 0.7839, F1: 0.7901, Recall: 0.8182, AUC: 0.8667 | Val Loss: 0.4872, Acc: 0.7091, F1: 0.6863, Recall: 0.7000, AUC: 0.8417\n",
      "Epoch 12: Improvement found, saving model state!\n",
      "Epoch 13/50 | Train Loss: 0.4788, Acc: 0.7957, F1: 0.8015, Recall: 0.8300, AUC: 0.8522 | Val Loss: 0.4833, Acc: 0.7182, F1: 0.6990, Recall: 0.7200, AUC: 0.8433\n",
      "Epoch 13: Improvement found, saving model state!\n",
      "Epoch 14/50 | Train Loss: 0.4657, Acc: 0.7819, F1: 0.7869, Recall: 0.8103, AUC: 0.8576 | Val Loss: 0.4871, Acc: 0.7364, F1: 0.7238, Recall: 0.7600, AUC: 0.8440\n",
      "Epoch 15/50 | Train Loss: 0.4669, Acc: 0.7780, F1: 0.7823, Recall: 0.8024, AUC: 0.8622 | Val Loss: 0.4904, Acc: 0.7364, F1: 0.7238, Recall: 0.7600, AUC: 0.8390\n",
      "Epoch 16/50 | Train Loss: 0.4631, Acc: 0.7800, F1: 0.7846, Recall: 0.8063, AUC: 0.8623 | Val Loss: 0.4947, Acc: 0.7182, F1: 0.6990, Recall: 0.7200, AUC: 0.8347\n",
      "Epoch 17/50 | Train Loss: 0.4496, Acc: 0.7957, F1: 0.8030, Recall: 0.8379, AUC: 0.8670 | Val Loss: 0.4959, Acc: 0.7273, F1: 0.7115, Recall: 0.7400, AUC: 0.8363\n",
      "Epoch 18/50 | Train Loss: 0.4857, Acc: 0.7701, F1: 0.7746, Recall: 0.7945, AUC: 0.8465 | Val Loss: 0.5015, Acc: 0.7182, F1: 0.6931, Recall: 0.7000, AUC: 0.8323\n",
      "Epoch 19/50 | Train Loss: 0.4562, Acc: 0.8035, F1: 0.8077, Recall: 0.8300, AUC: 0.8692 | Val Loss: 0.4969, Acc: 0.7182, F1: 0.6990, Recall: 0.7200, AUC: 0.8337\n",
      "Epoch 20/50 | Train Loss: 0.4629, Acc: 0.7760, F1: 0.7841, Recall: 0.8182, AUC: 0.8574 | Val Loss: 0.4974, Acc: 0.7273, F1: 0.7115, Recall: 0.7400, AUC: 0.8320\n",
      "Epoch 21/50 | Train Loss: 0.4460, Acc: 0.8251, F1: 0.8285, Recall: 0.8498, AUC: 0.8769 | Val Loss: 0.4944, Acc: 0.7182, F1: 0.6990, Recall: 0.7200, AUC: 0.8340\n",
      "Epoch 22/50 | Train Loss: 0.4409, Acc: 0.7996, F1: 0.8053, Recall: 0.8340, AUC: 0.8775 | Val Loss: 0.4989, Acc: 0.7182, F1: 0.6990, Recall: 0.7200, AUC: 0.8323\n",
      "Epoch 23/50 | Train Loss: 0.4262, Acc: 0.8232, F1: 0.8289, Recall: 0.8617, AUC: 0.8844 | Val Loss: 0.5028, Acc: 0.7182, F1: 0.6990, Recall: 0.7200, AUC: 0.8283\n",
      "No improvement for 10 epochs, stopping early at epoch 23\n",
      "Fold 1 Metrics: Val Loss: 0.5028, Acc: 0.7182, F1: 0.6990, Recall: 0.7200, AUC: 0.8283\n",
      "\n",
      "--- Fold 2/5 ---\n",
      "Fold 2: ADASYN resampled training set shape: (514, 10), (514,)\n",
      "Epoch 1/50 | Train Loss: 0.6883, Acc: 0.5642, F1: 0.6042, Recall: 0.6577, AUC: 0.5861 | Val Loss: 0.6542, Acc: 0.6636, F1: 0.6942, Recall: 0.8750, AUC: 0.7759\n",
      "Epoch 1: Improvement found, saving model state!\n",
      "Epoch 2/50 | Train Loss: 0.6127, Acc: 0.6576, F1: 0.6800, Recall: 0.7192, AUC: 0.7372 | Val Loss: 0.5893, Acc: 0.7273, F1: 0.7000, Recall: 0.7292, AUC: 0.7923\n",
      "Epoch 2: Improvement found, saving model state!\n",
      "Epoch 3/50 | Train Loss: 0.5660, Acc: 0.7257, F1: 0.7374, Recall: 0.7615, AUC: 0.8031 | Val Loss: 0.5683, Acc: 0.7182, F1: 0.6869, Recall: 0.7083, AUC: 0.8001\n",
      "Epoch 3: Improvement found, saving model state!\n",
      "Epoch 4/50 | Train Loss: 0.5467, Acc: 0.7510, F1: 0.7585, Recall: 0.7731, AUC: 0.8167 | Val Loss: 0.5510, Acc: 0.7000, F1: 0.6526, Recall: 0.6458, AUC: 0.8014\n",
      "Epoch 4: Improvement found, saving model state!\n",
      "Epoch 5/50 | Train Loss: 0.5417, Acc: 0.7393, F1: 0.7500, Recall: 0.7731, AUC: 0.8118 | Val Loss: 0.5527, Acc: 0.7182, F1: 0.6869, Recall: 0.7083, AUC: 0.7964\n",
      "Epoch 6/50 | Train Loss: 0.5162, Acc: 0.7588, F1: 0.7660, Recall: 0.7808, AUC: 0.8324 | Val Loss: 0.5561, Acc: 0.7182, F1: 0.7103, Recall: 0.7917, AUC: 0.8004\n",
      "Epoch 7/50 | Train Loss: 0.5215, Acc: 0.7588, F1: 0.7643, Recall: 0.7731, AUC: 0.8298 | Val Loss: 0.5616, Acc: 0.7273, F1: 0.7170, Recall: 0.7917, AUC: 0.7950\n",
      "Epoch 8/50 | Train Loss: 0.5111, Acc: 0.7685, F1: 0.7792, Recall: 0.8077, AUC: 0.8334 | Val Loss: 0.5540, Acc: 0.7182, F1: 0.7103, Recall: 0.7917, AUC: 0.7977\n",
      "Epoch 9/50 | Train Loss: 0.4914, Acc: 0.7763, F1: 0.7882, Recall: 0.8231, AUC: 0.8492 | Val Loss: 0.5430, Acc: 0.7182, F1: 0.7048, Recall: 0.7708, AUC: 0.7994\n",
      "Epoch 9: Improvement found, saving model state!\n",
      "Epoch 10/50 | Train Loss: 0.4942, Acc: 0.7782, F1: 0.7865, Recall: 0.8077, AUC: 0.8434 | Val Loss: 0.5373, Acc: 0.7273, F1: 0.7170, Recall: 0.7917, AUC: 0.8001\n",
      "Epoch 10: Improvement found, saving model state!\n",
      "Epoch 11/50 | Train Loss: 0.4757, Acc: 0.7860, F1: 0.7948, Recall: 0.8192, AUC: 0.8541 | Val Loss: 0.5412, Acc: 0.7000, F1: 0.6733, Recall: 0.7083, AUC: 0.8014\n",
      "Epoch 12/50 | Train Loss: 0.4866, Acc: 0.7802, F1: 0.7927, Recall: 0.8308, AUC: 0.8469 | Val Loss: 0.5455, Acc: 0.7000, F1: 0.6796, Recall: 0.7292, AUC: 0.7987\n",
      "Epoch 13/50 | Train Loss: 0.4935, Acc: 0.7724, F1: 0.7837, Recall: 0.8154, AUC: 0.8395 | Val Loss: 0.5589, Acc: 0.7455, F1: 0.7407, Recall: 0.8333, AUC: 0.7940\n",
      "Epoch 14/50 | Train Loss: 0.4819, Acc: 0.7743, F1: 0.7891, Recall: 0.8346, AUC: 0.8485 | Val Loss: 0.5378, Acc: 0.7545, F1: 0.7568, Recall: 0.8750, AUC: 0.8007\n",
      "Epoch 15/50 | Train Loss: 0.4991, Acc: 0.7743, F1: 0.7875, Recall: 0.8269, AUC: 0.8400 | Val Loss: 0.5485, Acc: 0.7364, F1: 0.7290, Recall: 0.8125, AUC: 0.8014\n",
      "Epoch 16/50 | Train Loss: 0.4740, Acc: 0.7996, F1: 0.8082, Recall: 0.8346, AUC: 0.8591 | Val Loss: 0.5543, Acc: 0.7182, F1: 0.7048, Recall: 0.7708, AUC: 0.7947\n",
      "Epoch 17/50 | Train Loss: 0.4528, Acc: 0.7879, F1: 0.7993, Recall: 0.8346, AUC: 0.8709 | Val Loss: 0.5587, Acc: 0.7273, F1: 0.7115, Recall: 0.7708, AUC: 0.7930\n",
      "Epoch 18/50 | Train Loss: 0.4540, Acc: 0.7899, F1: 0.7993, Recall: 0.8269, AUC: 0.8703 | Val Loss: 0.5542, Acc: 0.7000, F1: 0.6733, Recall: 0.7083, AUC: 0.7940\n",
      "Epoch 19/50 | Train Loss: 0.4571, Acc: 0.8074, F1: 0.8203, Recall: 0.8692, AUC: 0.8636 | Val Loss: 0.5559, Acc: 0.7182, F1: 0.6990, Recall: 0.7500, AUC: 0.7944\n",
      "Epoch 20/50 | Train Loss: 0.4329, Acc: 0.7918, F1: 0.8051, Recall: 0.8500, AUC: 0.8850 | Val Loss: 0.5656, Acc: 0.7364, F1: 0.7290, Recall: 0.8125, AUC: 0.7927\n",
      "No improvement for 10 epochs, stopping early at epoch 20\n",
      "Fold 2 Metrics: Val Loss: 0.5656, Acc: 0.7364, F1: 0.7290, Recall: 0.8125, AUC: 0.7927\n",
      "\n",
      "--- Fold 3/5 ---\n",
      "Fold 3: ADASYN resampled training set shape: (473, 10), (473,)\n",
      "Epoch 1/50 | Train Loss: 0.6906, Acc: 0.5412, F1: 0.5210, Recall: 0.5315, AUC: 0.5690 | Val Loss: 0.6597, Acc: 0.7000, F1: 0.6598, Recall: 0.7111, AUC: 0.7600\n",
      "Epoch 1: Improvement found, saving model state!\n",
      "Epoch 2/50 | Train Loss: 0.6277, Acc: 0.6490, F1: 0.6261, Recall: 0.6261, AUC: 0.7108 | Val Loss: 0.6054, Acc: 0.7182, F1: 0.6737, Recall: 0.7111, AUC: 0.7802\n",
      "Epoch 2: Improvement found, saving model state!\n",
      "Epoch 3/50 | Train Loss: 0.5931, Acc: 0.7104, F1: 0.6792, Recall: 0.6532, AUC: 0.7629 | Val Loss: 0.5612, Acc: 0.7727, F1: 0.7423, Recall: 0.8000, AUC: 0.8109\n",
      "Epoch 3: Improvement found, saving model state!\n",
      "Epoch 4/50 | Train Loss: 0.5783, Acc: 0.7230, F1: 0.7029, Recall: 0.6982, AUC: 0.7741 | Val Loss: 0.5389, Acc: 0.7818, F1: 0.7600, Recall: 0.8444, AUC: 0.8308\n",
      "Epoch 4: Improvement found, saving model state!\n",
      "Epoch 5/50 | Train Loss: 0.5529, Acc: 0.7230, F1: 0.6989, Recall: 0.6847, AUC: 0.7963 | Val Loss: 0.5290, Acc: 0.7909, F1: 0.7677, Recall: 0.8444, AUC: 0.8260\n",
      "Epoch 5: Improvement found, saving model state!\n",
      "Epoch 6/50 | Train Loss: 0.5465, Acc: 0.7315, F1: 0.7171, Recall: 0.7252, AUC: 0.7997 | Val Loss: 0.5228, Acc: 0.7818, F1: 0.7600, Recall: 0.8444, AUC: 0.8349\n",
      "Epoch 6: Improvement found, saving model state!\n",
      "Epoch 7/50 | Train Loss: 0.5329, Acc: 0.7484, F1: 0.7213, Recall: 0.6937, AUC: 0.8181 | Val Loss: 0.5192, Acc: 0.8000, F1: 0.7800, Recall: 0.8667, AUC: 0.8356\n",
      "Epoch 7: Improvement found, saving model state!\n",
      "Epoch 8/50 | Train Loss: 0.5434, Acc: 0.7146, F1: 0.6868, Recall: 0.6667, AUC: 0.7956 | Val Loss: 0.5176, Acc: 0.7909, F1: 0.7677, Recall: 0.8444, AUC: 0.8373\n",
      "Epoch 8: Improvement found, saving model state!\n",
      "Epoch 9/50 | Train Loss: 0.5376, Acc: 0.7400, F1: 0.7159, Recall: 0.6982, AUC: 0.8083 | Val Loss: 0.5145, Acc: 0.7909, F1: 0.7677, Recall: 0.8444, AUC: 0.8390\n",
      "Epoch 9: Improvement found, saving model state!\n",
      "Epoch 10/50 | Train Loss: 0.5278, Acc: 0.7442, F1: 0.7256, Recall: 0.7207, AUC: 0.8122 | Val Loss: 0.5123, Acc: 0.8182, F1: 0.7959, Recall: 0.8667, AUC: 0.8400\n",
      "Epoch 10: Improvement found, saving model state!\n",
      "Epoch 11/50 | Train Loss: 0.5123, Acc: 0.7336, F1: 0.7097, Recall: 0.6937, AUC: 0.8231 | Val Loss: 0.5209, Acc: 0.7909, F1: 0.7579, Recall: 0.8000, AUC: 0.8373\n",
      "Epoch 12/50 | Train Loss: 0.5049, Acc: 0.7400, F1: 0.7223, Recall: 0.7207, AUC: 0.8308 | Val Loss: 0.5317, Acc: 0.8000, F1: 0.7708, Recall: 0.8222, AUC: 0.8301\n",
      "Epoch 13/50 | Train Loss: 0.5173, Acc: 0.7548, F1: 0.7387, Recall: 0.7387, AUC: 0.8222 | Val Loss: 0.5317, Acc: 0.8000, F1: 0.7708, Recall: 0.8222, AUC: 0.8274\n",
      "Epoch 14/50 | Train Loss: 0.5404, Acc: 0.7252, F1: 0.6977, Recall: 0.6757, AUC: 0.8037 | Val Loss: 0.5215, Acc: 0.8182, F1: 0.7872, Recall: 0.8222, AUC: 0.8338\n",
      "Epoch 15/50 | Train Loss: 0.4983, Acc: 0.7548, F1: 0.7422, Recall: 0.7523, AUC: 0.8361 | Val Loss: 0.5285, Acc: 0.8091, F1: 0.7835, Recall: 0.8444, AUC: 0.8414\n",
      "Epoch 16/50 | Train Loss: 0.4909, Acc: 0.7674, F1: 0.7534, Recall: 0.7568, AUC: 0.8435 | Val Loss: 0.5269, Acc: 0.8091, F1: 0.7835, Recall: 0.8444, AUC: 0.8386\n",
      "Epoch 17/50 | Train Loss: 0.4937, Acc: 0.7463, F1: 0.7309, Recall: 0.7342, AUC: 0.8374 | Val Loss: 0.5315, Acc: 0.8091, F1: 0.7835, Recall: 0.8444, AUC: 0.8328\n",
      "Epoch 18/50 | Train Loss: 0.4772, Acc: 0.7717, F1: 0.7568, Recall: 0.7568, AUC: 0.8514 | Val Loss: 0.5313, Acc: 0.8091, F1: 0.7835, Recall: 0.8444, AUC: 0.8318\n",
      "Epoch 19/50 | Train Loss: 0.4859, Acc: 0.7738, F1: 0.7574, Recall: 0.7523, AUC: 0.8509 | Val Loss: 0.5238, Acc: 0.8091, F1: 0.7835, Recall: 0.8444, AUC: 0.8373\n",
      "Epoch 20/50 | Train Loss: 0.4870, Acc: 0.7611, F1: 0.7449, Recall: 0.7432, AUC: 0.8446 | Val Loss: 0.5228, Acc: 0.8091, F1: 0.7835, Recall: 0.8444, AUC: 0.8373\n",
      "No improvement for 10 epochs, stopping early at epoch 20\n",
      "Fold 3 Metrics: Val Loss: 0.5228, Acc: 0.8091, F1: 0.7835, Recall: 0.8444, AUC: 0.8373\n",
      "\n",
      "--- Fold 4/5 ---\n",
      "Fold 4: ADASYN resampled training set shape: (468, 10), (468,)\n",
      "Epoch 1/50 | Train Loss: 0.6785, Acc: 0.5748, F1: 0.4804, Recall: 0.4182, AUC: 0.5963 | Val Loss: 0.6497, Acc: 0.7798, F1: 0.6757, Recall: 0.6098, AUC: 0.7945\n",
      "Epoch 1: Improvement found, saving model state!\n",
      "Epoch 2/50 | Train Loss: 0.6380, Acc: 0.6581, F1: 0.6209, Recall: 0.5955, AUC: 0.6952 | Val Loss: 0.5811, Acc: 0.7431, F1: 0.6818, Recall: 0.7317, AUC: 0.8533\n",
      "Epoch 2: Improvement found, saving model state!\n",
      "Epoch 3/50 | Train Loss: 0.5875, Acc: 0.7158, F1: 0.6957, Recall: 0.6909, AUC: 0.7755 | Val Loss: 0.5463, Acc: 0.7248, F1: 0.6875, Recall: 0.8049, AUC: 0.8594\n",
      "Epoch 3: Improvement found, saving model state!\n",
      "Epoch 4/50 | Train Loss: 0.5738, Acc: 0.7073, F1: 0.6935, Recall: 0.7045, AUC: 0.7855 | Val Loss: 0.5181, Acc: 0.7248, F1: 0.6875, Recall: 0.8049, AUC: 0.8752\n",
      "Epoch 4: Improvement found, saving model state!\n",
      "Epoch 5/50 | Train Loss: 0.5414, Acc: 0.7479, F1: 0.7318, Recall: 0.7318, AUC: 0.8130 | Val Loss: 0.5064, Acc: 0.7339, F1: 0.6947, Recall: 0.8049, AUC: 0.8684\n",
      "Epoch 5: Improvement found, saving model state!\n",
      "Epoch 6/50 | Train Loss: 0.5612, Acc: 0.7436, F1: 0.7309, Recall: 0.7409, AUC: 0.7938 | Val Loss: 0.4963, Acc: 0.7339, F1: 0.6882, Recall: 0.7805, AUC: 0.8633\n",
      "Epoch 6: Improvement found, saving model state!\n",
      "Epoch 7/50 | Train Loss: 0.5094, Acc: 0.7778, F1: 0.7647, Recall: 0.7682, AUC: 0.8407 | Val Loss: 0.4974, Acc: 0.7431, F1: 0.6889, Recall: 0.7561, AUC: 0.8562\n",
      "Epoch 8/50 | Train Loss: 0.5203, Acc: 0.7585, F1: 0.7449, Recall: 0.7500, AUC: 0.8253 | Val Loss: 0.4817, Acc: 0.7339, F1: 0.6813, Recall: 0.7561, AUC: 0.8633\n",
      "Epoch 8: Improvement found, saving model state!\n",
      "Epoch 9/50 | Train Loss: 0.5302, Acc: 0.7372, F1: 0.7223, Recall: 0.7273, AUC: 0.8122 | Val Loss: 0.4995, Acc: 0.7615, F1: 0.7347, Recall: 0.8780, AUC: 0.8565\n",
      "Epoch 10/50 | Train Loss: 0.5378, Acc: 0.7350, F1: 0.7269, Recall: 0.7500, AUC: 0.8056 | Val Loss: 0.4925, Acc: 0.7523, F1: 0.7158, Recall: 0.8293, AUC: 0.8537\n",
      "Epoch 11/50 | Train Loss: 0.5097, Acc: 0.7564, F1: 0.7444, Recall: 0.7545, AUC: 0.8272 | Val Loss: 0.4881, Acc: 0.7615, F1: 0.7234, Recall: 0.8293, AUC: 0.8547\n",
      "Epoch 12/50 | Train Loss: 0.5086, Acc: 0.7671, F1: 0.7594, Recall: 0.7818, AUC: 0.8299 | Val Loss: 0.4874, Acc: 0.7615, F1: 0.7174, Recall: 0.8049, AUC: 0.8551\n",
      "Epoch 13/50 | Train Loss: 0.4954, Acc: 0.7735, F1: 0.7644, Recall: 0.7818, AUC: 0.8372 | Val Loss: 0.4847, Acc: 0.7798, F1: 0.7333, Recall: 0.8049, AUC: 0.8476\n",
      "Epoch 14/50 | Train Loss: 0.4964, Acc: 0.7521, F1: 0.7434, Recall: 0.7636, AUC: 0.8368 | Val Loss: 0.4998, Acc: 0.7798, F1: 0.7391, Recall: 0.8293, AUC: 0.8386\n",
      "Epoch 15/50 | Train Loss: 0.4862, Acc: 0.7564, F1: 0.7478, Recall: 0.7682, AUC: 0.8445 | Val Loss: 0.4987, Acc: 0.7798, F1: 0.7447, Recall: 0.8537, AUC: 0.8429\n",
      "Epoch 16/50 | Train Loss: 0.5069, Acc: 0.7521, F1: 0.7387, Recall: 0.7455, AUC: 0.8301 | Val Loss: 0.4982, Acc: 0.7615, F1: 0.7234, Recall: 0.8293, AUC: 0.8415\n",
      "Epoch 17/50 | Train Loss: 0.4634, Acc: 0.7906, F1: 0.7832, Recall: 0.8045, AUC: 0.8598 | Val Loss: 0.5062, Acc: 0.7431, F1: 0.7083, Recall: 0.8293, AUC: 0.8343\n",
      "Epoch 18/50 | Train Loss: 0.4808, Acc: 0.7863, F1: 0.7748, Recall: 0.7818, AUC: 0.8496 | Val Loss: 0.5018, Acc: 0.7615, F1: 0.7234, Recall: 0.8293, AUC: 0.8350\n",
      "No improvement for 10 epochs, stopping early at epoch 18\n",
      "Fold 4 Metrics: Val Loss: 0.5018, Acc: 0.7615, F1: 0.7234, Recall: 0.8293, AUC: 0.8350\n",
      "\n",
      "--- Fold 5/5 ---\n",
      "Fold 5: ADASYN resampled training set shape: (504, 10), (504,)\n",
      "Epoch 1/50 | Train Loss: 0.7004, Acc: 0.5655, F1: 0.6294, Recall: 0.7470, AUC: 0.5859 | Val Loss: 0.6659, Acc: 0.5505, F1: 0.6370, Recall: 0.8958, AUC: 0.7572\n",
      "Epoch 1: Improvement found, saving model state!\n",
      "Epoch 2/50 | Train Loss: 0.6362, Acc: 0.6528, F1: 0.6847, Recall: 0.7631, AUC: 0.7035 | Val Loss: 0.6076, Acc: 0.6789, F1: 0.6903, Recall: 0.8125, AUC: 0.7824\n",
      "Epoch 2: Improvement found, saving model state!\n",
      "Epoch 3/50 | Train Loss: 0.5874, Acc: 0.6865, F1: 0.6926, Recall: 0.7149, AUC: 0.7605 | Val Loss: 0.5688, Acc: 0.7156, F1: 0.6931, Recall: 0.7292, AUC: 0.7958\n",
      "Epoch 3: Improvement found, saving model state!\n",
      "Epoch 4/50 | Train Loss: 0.5570, Acc: 0.7381, F1: 0.7360, Recall: 0.7390, AUC: 0.7986 | Val Loss: 0.5501, Acc: 0.7248, F1: 0.7000, Recall: 0.7292, AUC: 0.8084\n",
      "Epoch 4: Improvement found, saving model state!\n",
      "Epoch 5/50 | Train Loss: 0.5362, Acc: 0.7520, F1: 0.7444, Recall: 0.7309, AUC: 0.8132 | Val Loss: 0.5358, Acc: 0.7431, F1: 0.7143, Recall: 0.7292, AUC: 0.8210\n",
      "Epoch 5: Improvement found, saving model state!\n",
      "Epoch 6/50 | Train Loss: 0.5407, Acc: 0.7321, F1: 0.7262, Recall: 0.7189, AUC: 0.8095 | Val Loss: 0.5230, Acc: 0.7706, F1: 0.7368, Recall: 0.7292, AUC: 0.8245\n",
      "Epoch 6: Improvement found, saving model state!\n",
      "Epoch 7/50 | Train Loss: 0.5229, Acc: 0.7619, F1: 0.7561, Recall: 0.7470, AUC: 0.8251 | Val Loss: 0.5208, Acc: 0.7523, F1: 0.7216, Recall: 0.7292, AUC: 0.8262\n",
      "Epoch 7: Improvement found, saving model state!\n",
      "Epoch 8/50 | Train Loss: 0.5155, Acc: 0.7619, F1: 0.7610, Recall: 0.7671, AUC: 0.8270 | Val Loss: 0.5143, Acc: 0.7615, F1: 0.7400, Recall: 0.7708, AUC: 0.8303\n",
      "Epoch 8: Improvement found, saving model state!\n",
      "Epoch 9/50 | Train Loss: 0.4905, Acc: 0.7639, F1: 0.7689, Recall: 0.7952, AUC: 0.8441 | Val Loss: 0.5174, Acc: 0.7615, F1: 0.7451, Recall: 0.7917, AUC: 0.8309\n",
      "Epoch 10/50 | Train Loss: 0.4913, Acc: 0.7698, F1: 0.7734, Recall: 0.7952, AUC: 0.8402 | Val Loss: 0.5146, Acc: 0.7431, F1: 0.7255, Recall: 0.7708, AUC: 0.8303\n",
      "Epoch 11/50 | Train Loss: 0.4947, Acc: 0.7698, F1: 0.7680, Recall: 0.7711, AUC: 0.8397 | Val Loss: 0.5158, Acc: 0.7431, F1: 0.7255, Recall: 0.7708, AUC: 0.8333\n",
      "Epoch 12/50 | Train Loss: 0.5194, Acc: 0.7540, F1: 0.7597, Recall: 0.7871, AUC: 0.8186 | Val Loss: 0.5084, Acc: 0.7615, F1: 0.7400, Recall: 0.7708, AUC: 0.8371\n",
      "Epoch 12: Improvement found, saving model state!\n",
      "Epoch 13/50 | Train Loss: 0.4893, Acc: 0.7778, F1: 0.7838, Recall: 0.8153, AUC: 0.8398 | Val Loss: 0.5090, Acc: 0.7706, F1: 0.7525, Recall: 0.7917, AUC: 0.8367\n",
      "Epoch 14/50 | Train Loss: 0.4863, Acc: 0.7659, F1: 0.7765, Recall: 0.8233, AUC: 0.8450 | Val Loss: 0.5064, Acc: 0.7615, F1: 0.7347, Recall: 0.7500, AUC: 0.8371\n",
      "Epoch 14: Improvement found, saving model state!\n",
      "Epoch 15/50 | Train Loss: 0.4805, Acc: 0.7937, F1: 0.7984, Recall: 0.8273, AUC: 0.8469 | Val Loss: 0.4996, Acc: 0.7798, F1: 0.7551, Recall: 0.7708, AUC: 0.8408\n",
      "Epoch 15: Improvement found, saving model state!\n",
      "Epoch 16/50 | Train Loss: 0.4362, Acc: 0.8274, F1: 0.8330, Recall: 0.8715, AUC: 0.8771 | Val Loss: 0.5048, Acc: 0.7798, F1: 0.7600, Recall: 0.7917, AUC: 0.8402\n",
      "Epoch 17/50 | Train Loss: 0.4602, Acc: 0.7897, F1: 0.7977, Recall: 0.8394, AUC: 0.8564 | Val Loss: 0.5070, Acc: 0.7706, F1: 0.7475, Recall: 0.7708, AUC: 0.8381\n",
      "Epoch 18/50 | Train Loss: 0.4717, Acc: 0.7917, F1: 0.7985, Recall: 0.8353, AUC: 0.8481 | Val Loss: 0.5183, Acc: 0.7615, F1: 0.7400, Recall: 0.7708, AUC: 0.8268\n",
      "Epoch 19/50 | Train Loss: 0.4735, Acc: 0.7718, F1: 0.7818, Recall: 0.8273, AUC: 0.8526 | Val Loss: 0.5171, Acc: 0.7523, F1: 0.7429, Recall: 0.8125, AUC: 0.8344\n",
      "Epoch 20/50 | Train Loss: 0.4605, Acc: 0.7897, F1: 0.7985, Recall: 0.8434, AUC: 0.8690 | Val Loss: 0.5103, Acc: 0.7798, F1: 0.7600, Recall: 0.7917, AUC: 0.8405\n",
      "Epoch 21/50 | Train Loss: 0.4795, Acc: 0.7698, F1: 0.7795, Recall: 0.8233, AUC: 0.8471 | Val Loss: 0.5184, Acc: 0.7706, F1: 0.7525, Recall: 0.7917, AUC: 0.8354\n",
      "Epoch 22/50 | Train Loss: 0.4427, Acc: 0.7937, F1: 0.8067, Recall: 0.8715, AUC: 0.8712 | Val Loss: 0.5128, Acc: 0.7798, F1: 0.7600, Recall: 0.7917, AUC: 0.8354\n",
      "Epoch 23/50 | Train Loss: 0.4489, Acc: 0.8135, F1: 0.8178, Recall: 0.8474, AUC: 0.8703 | Val Loss: 0.5058, Acc: 0.7706, F1: 0.7525, Recall: 0.7917, AUC: 0.8388\n",
      "Epoch 24/50 | Train Loss: 0.4423, Acc: 0.7956, F1: 0.8008, Recall: 0.8313, AUC: 0.8693 | Val Loss: 0.5090, Acc: 0.7706, F1: 0.7525, Recall: 0.7917, AUC: 0.8361\n",
      "Epoch 25/50 | Train Loss: 0.4352, Acc: 0.8016, F1: 0.8084, Recall: 0.8474, AUC: 0.8764 | Val Loss: 0.5158, Acc: 0.7706, F1: 0.7475, Recall: 0.7708, AUC: 0.8330\n",
      "No improvement for 10 epochs, stopping early at epoch 25\n",
      "Fold 5 Metrics: Val Loss: 0.5158, Acc: 0.7706, F1: 0.7475, Recall: 0.7708, AUC: 0.8330\n",
      "\n",
      "Average Metrics over 5 folds:\n",
      "Val Loss: 0.5218, Accuracy: 0.7591, F1: 0.7365, Recall: 0.7954, AUC: 0.8253\n"
     ]
    }
   ],
   "source": [
    "import torch\n",
    "import torch.nn as nn\n",
    "import torch.optim as optim\n",
    "from torch.utils.data import DataLoader, TensorDataset, Subset, WeightedRandomSampler\n",
    "import numpy as np\n",
    "from sklearn.metrics import accuracy_score, f1_score, recall_score, roc_auc_score\n",
    "from sklearn.model_selection import KFold\n",
    "from imblearn.over_sampling import ADASYN\n",
    "\n",
    "\n",
    "# Apple M1 MPS GPU if possible\n",
    "device = torch.device(\"mps\" if torch.backends.mps.is_available() else \"cpu\")\n",
    "print(f\"Using device: {device}\")\n",
    "#BCE with logits\n",
    "criterion = nn.BCEWithLogitsLoss()\n",
    "\n",
    "# Convert the training data to toch tensor dataset\n",
    "X_train_tensor = torch.tensor(X_train_scaled, dtype=torch.float32)\n",
    "y_train_tensor = torch.tensor(y_train, dtype=torch.float32)\n",
    "full_dataset = TensorDataset(X_train_tensor, y_train_tensor)\n",
    "\n",
    "# Neural Network Classifier - Feed Forward\n",
    "# input_dim: number of input features\n",
    "# hidden_units: number of neurons - hidden layer\n",
    "# dropout_rate: prevent overfitting\n",
    "class NeuralNetClassifier(nn.Module):\n",
    "    def __init__(self, input_dim, hidden_units=[128, 64, 32], dropout_rate=0.3):\n",
    "        super(NeuralNetClassifier, self).__init__()\n",
    "        self.fc1 = nn.Linear(input_dim, hidden_units[0])\n",
    "        self.bn1 = nn.BatchNorm1d(hidden_units[0])\n",
    "        \n",
    "        self.fc2 = nn.Linear(hidden_units[0], hidden_units[1])\n",
    "        self.bn2 = nn.BatchNorm1d(hidden_units[1])\n",
    "        \n",
    "        self.fc3 = nn.Linear(hidden_units[1], hidden_units[2])\n",
    "        self.bn3 = nn.BatchNorm1d(hidden_units[2])\n",
    "        \n",
    "        self.dropout = nn.Dropout(dropout_rate)\n",
    "        self.out = nn.Linear(hidden_units[2], 1)\n",
    "        \n",
    "    def forward(self, x):\n",
    "        x = self.fc1(x)\n",
    "        x = self.bn1(x)\n",
    "        x = torch.relu(x)\n",
    "        x = self.dropout(x)\n",
    "        \n",
    "        x = self.fc2(x)\n",
    "        x = self.bn2(x)\n",
    "        x = torch.relu(x)\n",
    "        x = self.dropout(x)\n",
    "        \n",
    "        x = self.fc3(x)\n",
    "        x = self.bn3(x)\n",
    "        x = torch.relu(x)\n",
    "        x = self.dropout(x)\n",
    "        \n",
    "        x = self.out(x)  # Output logits; sigmoid will be applied later\n",
    "        return x\n",
    "\n",
    "# Early Stopping Training Function (with Metrics)\n",
    "# Avoid overfitting and unnecessary compute with early stopping, analyze loss, accuracy, F1, recall, and AUC\n",
    "# Saves best model based on validation loss - stops if no improvement in x epochs (to be defined)\n",
    "# Returns best model loaded from the checkpoint.\n",
    "def train_model_early_stop(model, train_loader, val_loader, criterion, optimizer, scheduler, epochs=50, patience=10):\n",
    "    best_val_loss = float('inf')\n",
    "    best_model_state = None\n",
    "    epochs_no_improve = 0\n",
    "\n",
    "    for epoch in range(epochs):\n",
    "        # Training\n",
    "        model.train()\n",
    "        train_loss = 0.0\n",
    "        train_labels_all = []\n",
    "        train_preds_all = []\n",
    "        train_probs_all = []\n",
    "        for inputs, labels in train_loader:\n",
    "            inputs = inputs.to(device)\n",
    "            labels = labels.to(device)\n",
    "            optimizer.zero_grad()\n",
    "            outputs = model(inputs).squeeze()\n",
    "            loss = criterion(outputs, labels)\n",
    "            loss.backward()\n",
    "            optimizer.step()\n",
    "            train_loss += loss.item() * inputs.size(0)\n",
    "            \n",
    "            probs = torch.sigmoid(outputs)\n",
    "            preds = (probs >= 0.5).float()\n",
    "            train_labels_all.extend(labels.cpu().numpy())\n",
    "            train_preds_all.extend(preds.cpu().numpy())\n",
    "            train_probs_all.extend(probs.cpu().detach().numpy())\n",
    "        \n",
    "        train_loss /= len(train_loader.dataset)\n",
    "        train_acc = accuracy_score(train_labels_all, train_preds_all)\n",
    "        train_f1 = f1_score(train_labels_all, train_preds_all)\n",
    "        train_recall = recall_score(train_labels_all, train_preds_all)\n",
    "        try:\n",
    "            train_auc = roc_auc_score(train_labels_all, train_probs_all)\n",
    "        except ValueError:\n",
    "            train_auc = float('nan')\n",
    "        \n",
    "        # Validation Phase\n",
    "        model.eval()\n",
    "        val_loss = 0.0\n",
    "        val_labels_all = []\n",
    "        val_preds_all = []\n",
    "        val_probs_all = []\n",
    "        with torch.no_grad():\n",
    "            for inputs, labels in val_loader:\n",
    "                inputs = inputs.to(device)\n",
    "                labels = labels.to(device)\n",
    "                outputs = model(inputs).squeeze()\n",
    "                loss = criterion(outputs, labels)\n",
    "                val_loss += loss.item() * inputs.size(0)\n",
    "                \n",
    "                probs = torch.sigmoid(outputs)\n",
    "                preds = (probs >= 0.5).float()\n",
    "                val_labels_all.extend(labels.cpu().numpy())\n",
    "                val_preds_all.extend(preds.cpu().numpy())\n",
    "                val_probs_all.extend(probs.cpu().detach().numpy())\n",
    "                \n",
    "        val_loss /= len(val_loader.dataset)\n",
    "        val_acc = accuracy_score(val_labels_all, val_preds_all)\n",
    "        val_f1 = f1_score(val_labels_all, val_preds_all)\n",
    "        val_recall = recall_score(val_labels_all, val_preds_all)\n",
    "        try:\n",
    "            val_auc = roc_auc_score(val_labels_all, val_probs_all)\n",
    "        except ValueError:\n",
    "            val_auc = float('nan')\n",
    "        \n",
    "        scheduler.step(val_loss)\n",
    "        \n",
    "        print(f\"Epoch {epoch+1}/{epochs} | \"\n",
    "              f\"Train Loss: {train_loss:.4f}, Acc: {train_acc:.4f}, F1: {train_f1:.4f}, Recall: {train_recall:.4f}, AUC: {train_auc:.4f} | \"\n",
    "              f\"Val Loss: {val_loss:.4f}, Acc: {val_acc:.4f}, F1: {val_f1:.4f}, Recall: {val_recall:.4f}, AUC: {val_auc:.4f}\")\n",
    "        \n",
    "        # Check improvement\n",
    "        if val_loss < best_val_loss:\n",
    "            best_val_loss = val_loss\n",
    "            best_model_state = model.state_dict()\n",
    "            epochs_no_improve = 0\n",
    "            print(f\"Epoch {epoch+1}: Improvement found, saving model state!\")\n",
    "        else:\n",
    "            epochs_no_improve += 1\n",
    "        \n",
    "        if epochs_no_improve >= patience:\n",
    "            print(f\"No improvement for {patience} epochs, stopping early at epoch {epoch+1}\")\n",
    "            break\n",
    "\n",
    "    # Load best model\n",
    "    if best_model_state is not None:\n",
    "        model.load_state_dict(best_model_state)\n",
    "    return model\n",
    "\n",
    "# def train_model_early_stop(model, train_loader, val_loader, criterion, optimizer, scheduler, epochs=50, patience=10):\n",
    "#     best_val_acc = 0.0               # Initialize best validation accuracy\n",
    "#     best_model_state = None\n",
    "#     epochs_no_improve = 0\n",
    "\n",
    "#     for epoch in range(epochs):\n",
    "#         # --- Training Phase ---\n",
    "#         model.train()\n",
    "#         train_loss = 0.0\n",
    "#         train_labels_all = []\n",
    "#         train_preds_all = []\n",
    "#         train_probs_all = []\n",
    "#         for inputs, labels in train_loader:\n",
    "#             inputs = inputs.to(device)\n",
    "#             labels = labels.to(device)\n",
    "#             optimizer.zero_grad()\n",
    "#             outputs = model(inputs).squeeze()\n",
    "#             loss = criterion(outputs, labels)\n",
    "#             loss.backward()\n",
    "#             optimizer.step()\n",
    "#             train_loss += loss.item() * inputs.size(0)\n",
    "            \n",
    "#             # Compute probabilities and predictions\n",
    "#             probs = torch.sigmoid(outputs)\n",
    "#             preds = (probs >= 0.5).float()\n",
    "#             train_labels_all.extend(labels.cpu().numpy())\n",
    "#             train_preds_all.extend(preds.cpu().numpy())\n",
    "#             train_probs_all.extend(probs.cpu().detach().numpy())\n",
    "        \n",
    "#         train_loss /= len(train_loader.dataset)\n",
    "#         train_acc = accuracy_score(train_labels_all, train_preds_all)\n",
    "#         train_f1 = f1_score(train_labels_all, train_preds_all)\n",
    "#         train_recall = recall_score(train_labels_all, train_preds_all)\n",
    "#         try:\n",
    "#             train_auc = roc_auc_score(train_labels_all, train_probs_all)\n",
    "#         except ValueError:\n",
    "#             train_auc = float('nan')\n",
    "        \n",
    "#         # --- Validation Phase ---\n",
    "#         model.eval()\n",
    "#         val_loss = 0.0  # Initialize validation loss\n",
    "#         val_labels_all = []\n",
    "#         val_preds_all = []\n",
    "#         val_probs_all = []\n",
    "#         with torch.no_grad():\n",
    "#             for inputs, labels in val_loader:\n",
    "#                 inputs = inputs.to(device)\n",
    "#                 labels = labels.to(device)\n",
    "#                 outputs = model(inputs).squeeze()\n",
    "#                 loss = criterion(outputs, labels)\n",
    "#                 val_loss += loss.item() * inputs.size(0)\n",
    "                \n",
    "#                 probs = torch.sigmoid(outputs)\n",
    "#                 preds = (probs >= 0.5).float()\n",
    "#                 val_labels_all.extend(labels.cpu().numpy())\n",
    "#                 val_preds_all.extend(preds.cpu().numpy())\n",
    "#                 val_probs_all.extend(probs.cpu().detach().numpy())\n",
    "                \n",
    "#         val_loss /= len(val_loader.dataset)\n",
    "#         val_acc = accuracy_score(val_labels_all, val_preds_all)\n",
    "#         val_f1 = f1_score(val_labels_all, val_preds_all)\n",
    "#         val_recall = recall_score(val_labels_all, val_preds_all)\n",
    "#         try:\n",
    "#             val_auc = roc_auc_score(val_labels_all, val_probs_all)\n",
    "#         except ValueError:\n",
    "#             val_auc = float('nan')\n",
    "        \n",
    "#         # Adjust the learning rate scheduler based on \"1 - val_acc\" (minimize this value)\n",
    "#         scheduler.step(1 - val_acc)\n",
    "        \n",
    "#         print(f\"Epoch {epoch+1}/{epochs} | \"\n",
    "#               f\"Train Loss: {train_loss:.4f}, Acc: {train_acc:.4f}, F1: {train_f1:.4f}, Recall: {train_recall:.4f}, AUC: {train_auc:.4f} | \"\n",
    "#               f\"Val Loss: {val_loss:.4f}, Acc: {val_acc:.4f}, F1: {val_f1:.4f}, Recall: {val_recall:.4f}, AUC: {val_auc:.4f}\")\n",
    "        \n",
    "#         # Early stopping based on validation accuracy\n",
    "#         if val_acc > best_val_acc:\n",
    "#             best_val_acc = val_acc\n",
    "#             best_model_state = model.state_dict()\n",
    "#             epochs_no_improve = 0\n",
    "#             print(f\"Epoch {epoch+1}: Improved val accuracy to {val_acc:.4f}, saving model state!\")\n",
    "#         else:\n",
    "#             epochs_no_improve += 1\n",
    "        \n",
    "#         if epochs_no_improve >= patience:\n",
    "#             print(f\"No improvement in val accuracy for {patience} epochs, stopping early at epoch {epoch+1}\")\n",
    "#             break\n",
    "\n",
    "#     if best_model_state is not None:\n",
    "#         model.load_state_dict(best_model_state)\n",
    "#     return model\n",
    "\n",
    "\n",
    "# Cross-Validation 5-Fold with the Neural Net Classifier\n",
    "# Returns average validation metrics across folds\n",
    "# dataset (Torch Tensor Dataset): The full dataset to cross-validate on.\n",
    "# k = Number of folds\n",
    "# epochs = max epochs to train per fold\n",
    "# patience = range of comaprison for epochs to determine if early stopping is needed or not\n",
    "    \n",
    "# Returns: average metrics across all folds.\n",
    "def cross_validate_model(dataset, k=5, epochs=50, patience=10):\n",
    "\n",
    "    kfold = KFold(n_splits=k, shuffle=True, random_state=42)\n",
    "    fold_metrics = []\n",
    "\n",
    "    for fold, (train_indices, val_indices) in enumerate(kfold.split(dataset)):\n",
    "        print(f\"\\n--- Fold {fold+1}/{k} ---\")\n",
    "\n",
    "        # Extract  training data for the current fold as arrays\n",
    "        train_X = X_train_scaled[train_indices]\n",
    "        train_y = y_train[train_indices]\n",
    "        # ADASYN - adding synthetic samples for minority class to balance dataset\n",
    "        adasyn = ADASYN(random_state=42)\n",
    "        train_X_res, train_y_res = adasyn.fit_resample(train_X, train_y)\n",
    "        print(f\"Fold {fold+1}: ADASYN resampled training set shape: {train_X_res.shape}, {train_y_res.shape}\")\n",
    "        \n",
    "        # Convert the resampled data back to PyTorch tensors\n",
    "        train_X_res_tensor = torch.tensor(train_X_res, dtype=torch.float32)\n",
    "        train_y_res_tensor = torch.tensor(train_y_res, dtype=torch.float32)\n",
    "        train_dataset_res = TensorDataset(train_X_res_tensor, train_y_res_tensor)\n",
    "        \n",
    "        # DataLoader for  augmented training data with shuffling \n",
    "        train_loader = DataLoader(train_dataset_res, batch_size=32, shuffle=True)\n",
    "        val_subset = Subset(dataset, val_indices)\n",
    "        val_loader = DataLoader(val_subset, batch_size=32, shuffle=False)\n",
    "        \n",
    "        # new model for current fold\n",
    "        input_dim = X_train_scaled.shape[1]\n",
    "        model_fold = NeuralNetClassifier(input_dim, hidden_units=[128, 64, 32], dropout_rate=0.3).to(device)\n",
    "        \n",
    "        # adam optimizer + scheduler for current fold\n",
    "        optimizer_fold = optim.AdamW(model_fold.parameters(), lr=0.001)\n",
    "        scheduler_fold = optim.lr_scheduler.ReduceLROnPlateau(optimizer_fold, mode='min', factor=0.5, patience=5, verbose=True)\n",
    "        \n",
    "        # train with early stop and criterion for loss\n",
    "        model_fold = train_model_early_stop(model_fold, train_loader, val_loader, criterion, optimizer_fold, scheduler_fold, epochs=epochs, patience=patience)\n",
    "        \n",
    "        # Evaluate on the validation fold\n",
    "        model_fold.eval()\n",
    "        val_loss = 0.0\n",
    "        val_labels_all = []\n",
    "        val_preds_all = []\n",
    "        val_probs_all = []\n",
    "        with torch.no_grad():\n",
    "            for inputs, labels in val_loader:\n",
    "                inputs = inputs.to(device)\n",
    "                labels = labels.to(device)\n",
    "                outputs = model_fold(inputs).squeeze()\n",
    "                loss = criterion(outputs, labels)\n",
    "                val_loss += loss.item() * inputs.size(0)\n",
    "                \n",
    "                probs = torch.sigmoid(outputs)\n",
    "                preds = (probs >= 0.5).float()\n",
    "                val_labels_all.extend(labels.cpu().numpy())\n",
    "                val_preds_all.extend(preds.cpu().numpy())\n",
    "                val_probs_all.extend(probs.cpu().detach().numpy())\n",
    "                \n",
    "        val_loss /= len(val_loader.dataset)\n",
    "        val_acc = accuracy_score(val_labels_all, val_preds_all)\n",
    "        val_f1 = f1_score(val_labels_all, val_preds_all)\n",
    "        val_recall = recall_score(val_labels_all, val_preds_all)\n",
    "        try:\n",
    "            val_auc = roc_auc_score(val_labels_all, val_probs_all)\n",
    "        except ValueError:\n",
    "            val_auc = float('nan')\n",
    "        \n",
    "        print(f\"Fold {fold+1} Metrics: Val Loss: {val_loss:.4f}, Acc: {val_acc:.4f}, F1: {val_f1:.4f}, Recall: {val_recall:.4f}, AUC: {val_auc:.4f}\")\n",
    "        fold_metrics.append({'loss': val_loss, 'acc': val_acc, 'f1': val_f1, 'recall': val_recall, 'auc': val_auc})\n",
    "    \n",
    "    # average metrics across all folds\n",
    "    avg_loss = np.mean([m['loss'] for m in fold_metrics])\n",
    "    avg_acc = np.mean([m['acc'] for m in fold_metrics])\n",
    "    avg_f1 = np.mean([m['f1'] for m in fold_metrics])\n",
    "    avg_recall = np.mean([m['recall'] for m in fold_metrics])\n",
    "    avg_auc = np.mean([m['auc'] for m in fold_metrics])\n",
    "    \n",
    "    print(f\"\\nAverage Metrics over {k} folds:\")\n",
    "    print(f\"Val Loss: {avg_loss:.4f}, Accuracy: {avg_acc:.4f}, F1: {avg_f1:.4f}, Recall: {avg_recall:.4f}, AUC: {avg_auc:.4f}\")\n",
    "    return {'loss': avg_loss, 'accuracy': avg_acc, 'f1': avg_f1, 'recall': avg_recall, 'auc': avg_auc}\n",
    "\n",
    "# Cross-Validation on  full training dataset\n",
    "cv_metrics = cross_validate_model(full_dataset, k=5, epochs=50, patience=10)\n"
   ]
  },
  {
   "cell_type": "markdown",
   "id": "d2a5b8d1",
   "metadata": {
    "papermill": {
     "duration": 0.021414,
     "end_time": "2023-05-17T14:49:09.861296",
     "exception": false,
     "start_time": "2023-05-17T14:49:09.839882",
     "status": "completed"
    },
    "tags": []
   },
   "source": [
    "## 4.4 Decision Tree Model"
   ]
  },
  {
   "cell_type": "code",
   "execution_count": 30,
   "id": "4962d6d9",
   "metadata": {
    "execution": {
     "iopub.execute_input": "2023-05-17T14:49:09.908250Z",
     "iopub.status.busy": "2023-05-17T14:49:09.907025Z",
     "iopub.status.idle": "2023-05-17T14:49:09.921815Z",
     "shell.execute_reply": "2023-05-17T14:49:09.920618Z"
    },
    "papermill": {
     "duration": 0.040965,
     "end_time": "2023-05-17T14:49:09.924200",
     "exception": false,
     "start_time": "2023-05-17T14:49:09.883235",
     "status": "completed"
    },
    "tags": []
   },
   "outputs": [
    {
     "name": "stdout",
     "output_type": "stream",
     "text": [
      "Accuracy Score:0.7463768115942029\n",
      "F1 Score:0.7457749530550338\n"
     ]
    }
   ],
   "source": [
    "from sklearn.tree import DecisionTreeClassifier\n",
    "dt = DecisionTreeClassifier()\n",
    "dt_model = dt.fit(X_train_scaled,y_train)\n",
    "y_pred_dt = dt_model.predict(X_test_scaled)\n",
    "dt_score = accuracy_score(y_test,y_pred_dt)\n",
    "print(f\"Accuracy Score:{dt_score}\")\n",
    "f1_dt = f1_score(y_test, y_pred_dt, average='weighted')\n",
    "print(f\"F1 Score:{f1_dt}\")"
   ]
  },
  {
   "cell_type": "markdown",
   "id": "18f83361",
   "metadata": {
    "papermill": {
     "duration": 0.021973,
     "end_time": "2023-05-17T14:49:09.968004",
     "exception": false,
     "start_time": "2023-05-17T14:49:09.946031",
     "status": "completed"
    },
    "tags": []
   },
   "source": [
    "# 5. Accuracy Testing"
   ]
  },
  {
   "cell_type": "code",
   "execution_count": 31,
   "id": "dfd6856c",
   "metadata": {
    "execution": {
     "iopub.execute_input": "2023-05-17T14:49:10.013427Z",
     "iopub.status.busy": "2023-05-17T14:49:10.012682Z",
     "iopub.status.idle": "2023-05-17T14:49:10.026497Z",
     "shell.execute_reply": "2023-05-17T14:49:10.025289Z"
    },
    "papermill": {
     "duration": 0.039041,
     "end_time": "2023-05-17T14:49:10.028759",
     "exception": false,
     "start_time": "2023-05-17T14:49:09.989718",
     "status": "completed"
    },
    "tags": []
   },
   "outputs": [
    {
     "name": "stdout",
     "output_type": "stream",
     "text": [
      "              precision    recall  f1-score   support\n",
      "\n",
      "           0       0.74      0.79      0.76        71\n",
      "           1       0.76      0.70      0.73        67\n",
      "\n",
      "    accuracy                           0.75       138\n",
      "   macro avg       0.75      0.75      0.75       138\n",
      "weighted avg       0.75      0.75      0.75       138\n",
      "\n"
     ]
    }
   ],
   "source": [
    "report = classification_report(y_test,y_pred_dt)\n",
    "print(report)"
   ]
  },
  {
   "cell_type": "code",
   "execution_count": 32,
   "id": "c1c7780e",
   "metadata": {
    "execution": {
     "iopub.execute_input": "2023-05-17T14:49:10.074309Z",
     "iopub.status.busy": "2023-05-17T14:49:10.073574Z",
     "iopub.status.idle": "2023-05-17T14:49:10.418885Z",
     "shell.execute_reply": "2023-05-17T14:49:10.417822Z"
    },
    "papermill": {
     "duration": 0.371021,
     "end_time": "2023-05-17T14:49:10.421377",
     "exception": false,
     "start_time": "2023-05-17T14:49:10.050356",
     "status": "completed"
    },
    "tags": []
   },
   "outputs": [
    {
     "data": {
      "text/plain": [
       "Text(0.5, 1.0, 'Confusion Matrix Decision Tree')"
      ]
     },
     "execution_count": 32,
     "metadata": {},
     "output_type": "execute_result"
    },
    {
     "data": {
      "image/png": "[encoded data removed]",
      "text/plain": [
       "<Figure size 640x480 with 2 Axes>"
      ]
     },
     "metadata": {},
     "output_type": "display_data"
    }
   ],
   "source": [
    "classes = ['Aggresive','Normal']\n",
    "ConfusionMatrixDisplay.from_predictions(y_test,y_pred_dt,display_labels = classes)\n",
    "plt.rcParams['figure.figsize'] = [6,6]\n",
    "plt.title(\"Confusion Matrix Decision Tree\")"
   ]
  },
  {
   "cell_type": "code",
   "execution_count": 33,
   "id": "a7e639a8",
   "metadata": {
    "execution": {
     "iopub.execute_input": "2023-05-17T14:49:10.468902Z",
     "iopub.status.busy": "2023-05-17T14:49:10.468151Z",
     "iopub.status.idle": "2023-05-17T14:49:10.750030Z",
     "shell.execute_reply": "2023-05-17T14:49:10.748802Z"
    },
    "papermill": {
     "duration": 0.308202,
     "end_time": "2023-05-17T14:49:10.752501",
     "exception": false,
     "start_time": "2023-05-17T14:49:10.444299",
     "status": "completed"
    },
    "tags": []
   },
   "outputs": [
    {
     "name": "stdout",
     "output_type": "stream",
     "text": [
      "auc_score is:0.8364515450914441\n"
     ]
    },
    {
     "data": {
      "image/png": "[encoded data removed]",
      "text/plain": [
       "<Figure size 600x600 with 1 Axes>"
      ]
     },
     "metadata": {},
     "output_type": "display_data"
    }
   ],
   "source": [
    "from sklearn.metrics import roc_curve\n",
    "# Get predicted probabilities for the positive class\n",
    "y_pred_prob = gb_model.predict_proba(X_test_scaled)[:, 1]\n",
    "fpr, tpr, thresholds = roc_curve(y_test, y_pred_prob)\n",
    "\n",
    "# Calculate the AUC Score\n",
    "auc_score = roc_auc_score(y_test, y_pred_prob)\n",
    "print(f\"auc_score is:{auc_score}\")\n",
    "\n",
    "# Plot the ROC curve\n",
    "plt.plot(fpr, tpr, label=f'AUC = {auc_score:.2f}')\n",
    "plt.plot([0, 1], [0, 1], 'k--')  # Diagonal line representing random guessing\n",
    "plt.xlabel('False Positive Rate')\n",
    "plt.ylabel('True Positive Rate')\n",
    "plt.title('Receiver Operating Characteristic (ROC) Curve')\n",
    "plt.legend(loc='lower right')\n",
    "plt.show()"
   ]
  },
  {
   "cell_type": "markdown",
   "id": "8adc5783",
   "metadata": {
    "execution": {
     "iopub.execute_input": "2023-05-17T14:46:08.029941Z",
     "iopub.status.busy": "2023-05-17T14:46:08.029555Z",
     "iopub.status.idle": "2023-05-17T14:46:08.037297Z",
     "shell.execute_reply": "2023-05-17T14:46:08.035515Z",
     "shell.execute_reply.started": "2023-05-17T14:46:08.029906Z"
    },
    "papermill": {
     "duration": 0.023266,
     "end_time": "2023-05-17T14:49:10.798496",
     "exception": false,
     "start_time": "2023-05-17T14:49:10.775230",
     "status": "completed"
    },
    "tags": []
   },
   "source": [
    "## \"If you enjoyed my notebook, please consider giving me an upvote! Your support will help me to reach more people and make a positive impact with my work !!!!\""
   ]
  }
 ],
 "metadata": {
  "kernelspec": {
   "display_name": "Python 3",
   "language": "python",
   "name": "python3"
  },
  "language_info": {
   "codemirror_mode": {
    "name": "ipython",
    "version": 3
   },
   "file_extension": ".py",
   "mimetype": "text/x-python",
   "name": "python",
   "nbconvert_exporter": "python",
   "pygments_lexer": "ipython3",
   "version": "3.13.2"
  },
  "papermill": {
   "default_parameters": {},
   "duration": 26.467105,
   "end_time": "2023-05-17T14:49:11.945097",
   "environment_variables": {},
   "exception": null,
   "input_path": "__notebook__.ipynb",
   "output_path": "__notebook__.ipynb",
   "parameters": {},
   "start_time": "2023-05-17T14:48:45.477992",
   "version": "2.4.0"
  }
 },
 "nbformat": 4,
 "nbformat_minor": 5
}
